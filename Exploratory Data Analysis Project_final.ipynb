{
 "cells": [
  {
   "cell_type": "markdown",
   "metadata": {},
   "source": [
    "# Exploratory Data Analysis Project\n",
    "# *Factors influencing the price of a vehicle*"
   ]
  },
  {
   "cell_type": "markdown",
   "metadata": {
    "toc": true
   },
   "source": [
    "<h1>Table of Contents<span class=\"tocSkip\"></span></h1>\n",
    "<div class=\"toc\"><ul class=\"toc-item\"><li><span><a href=\"#Goal\" data-toc-modified-id=\"Goal-1\"><span class=\"toc-item-num\">1&nbsp;&nbsp;</span>Goal</a></span></li><li><span><a href=\"#Hypothesis\" data-toc-modified-id=\"Hypothesis-2\"><span class=\"toc-item-num\">2&nbsp;&nbsp;</span>Hypothesis</a></span></li><li><span><a href=\"#Description-of-the-data\" data-toc-modified-id=\"Description-of-the-data-3\"><span class=\"toc-item-num\">3&nbsp;&nbsp;</span>Description of the data</a></span></li><li><span><a href=\"#Imports\" data-toc-modified-id=\"Imports-4\"><span class=\"toc-item-num\">4&nbsp;&nbsp;</span>Imports</a></span></li><li><span><a href=\"#Input-data\" data-toc-modified-id=\"Input-data-5\"><span class=\"toc-item-num\">5&nbsp;&nbsp;</span>Input data</a></span></li><li><span><a href=\"#Overview\" data-toc-modified-id=\"Overview-6\"><span class=\"toc-item-num\">6&nbsp;&nbsp;</span>Overview</a></span></li><li><span><a href=\"#Preprocessing\" data-toc-modified-id=\"Preprocessing-7\"><span class=\"toc-item-num\">7&nbsp;&nbsp;</span>Preprocessing</a></span><ul class=\"toc-item\"><li><span><a href=\"#Artifacts\" data-toc-modified-id=\"Artifacts-7.1\"><span class=\"toc-item-num\">7.1&nbsp;&nbsp;</span>Artifacts</a></span><ul class=\"toc-item\"><li><span><a href=\"#Price\" data-toc-modified-id=\"Price-7.1.1\"><span class=\"toc-item-num\">7.1.1&nbsp;&nbsp;</span>Price</a></span><ul class=\"toc-item\"><li><span><a href=\"#Car-brand\" data-toc-modified-id=\"Car-brand-7.1.1.1\"><span class=\"toc-item-num\">7.1.1.1&nbsp;&nbsp;</span>Car brand</a></span></li><li><span><a href=\"#Unusually-high-values\" data-toc-modified-id=\"Unusually-high-values-7.1.1.2\"><span class=\"toc-item-num\">7.1.1.2&nbsp;&nbsp;</span>Unusually high values</a></span></li><li><span><a href=\"#Other-artifacts\" data-toc-modified-id=\"Other-artifacts-7.1.1.3\"><span class=\"toc-item-num\">7.1.1.3&nbsp;&nbsp;</span>Other artifacts</a></span></li></ul></li></ul></li><li><span><a href=\"#Missing-values\" data-toc-modified-id=\"Missing-values-7.2\"><span class=\"toc-item-num\">7.2&nbsp;&nbsp;</span>Missing values</a></span><ul class=\"toc-item\"><li><span><a href=\"#Is_4wd\" data-toc-modified-id=\"Is_4wd-7.2.1\"><span class=\"toc-item-num\">7.2.1&nbsp;&nbsp;</span>Is_4wd</a></span></li><li><span><a href=\"#Odometer\" data-toc-modified-id=\"Odometer-7.2.2\"><span class=\"toc-item-num\">7.2.2&nbsp;&nbsp;</span>Odometer</a></span></li><li><span><a href=\"#Model_year\" data-toc-modified-id=\"Model_year-7.2.3\"><span class=\"toc-item-num\">7.2.3&nbsp;&nbsp;</span>Model_year</a></span></li><li><span><a href=\"#Cylinders\" data-toc-modified-id=\"Cylinders-7.2.4\"><span class=\"toc-item-num\">7.2.4&nbsp;&nbsp;</span>Cylinders</a></span></li><li><span><a href=\"#Paint-color\" data-toc-modified-id=\"Paint-color-7.2.5\"><span class=\"toc-item-num\">7.2.5&nbsp;&nbsp;</span>Paint color</a></span></li></ul></li><li><span><a href=\"#Data-type-change\" data-toc-modified-id=\"Data-type-change-7.3\"><span class=\"toc-item-num\">7.3&nbsp;&nbsp;</span>Data type change</a></span></li><li><span><a href=\"#Duplicates\" data-toc-modified-id=\"Duplicates-7.4\"><span class=\"toc-item-num\">7.4&nbsp;&nbsp;</span>Duplicates</a></span></li></ul></li><li><span><a href=\"#Calculations\" data-toc-modified-id=\"Calculations-8\"><span class=\"toc-item-num\">8&nbsp;&nbsp;</span>Calculations</a></span><ul class=\"toc-item\"><li><span><a href=\"#Month-and-DOW-when-the-ad-was-posted\" data-toc-modified-id=\"Month-and-DOW-when-the-ad-was-posted-8.1\"><span class=\"toc-item-num\">8.1&nbsp;&nbsp;</span>Month and DOW when the ad was posted</a></span></li><li><span><a href=\"#Age-in-years\" data-toc-modified-id=\"Age-in-years-8.2\"><span class=\"toc-item-num\">8.2&nbsp;&nbsp;</span>Age in years</a></span></li><li><span><a href=\"#Average-mileage-per-year\" data-toc-modified-id=\"Average-mileage-per-year-8.3\"><span class=\"toc-item-num\">8.3&nbsp;&nbsp;</span>Average mileage per year</a></span></li><li><span><a href=\"#Condition\" data-toc-modified-id=\"Condition-8.4\"><span class=\"toc-item-num\">8.4&nbsp;&nbsp;</span>Condition</a></span></li></ul></li><li><span><a href=\"#EDA\" data-toc-modified-id=\"EDA-9\"><span class=\"toc-item-num\">9&nbsp;&nbsp;</span>EDA</a></span><ul class=\"toc-item\"><li><span><a href=\"#Histograms\" data-toc-modified-id=\"Histograms-9.1\"><span class=\"toc-item-num\">9.1&nbsp;&nbsp;</span>Histograms</a></span><ul class=\"toc-item\"><li><span><a href=\"#Price\" data-toc-modified-id=\"Price-9.1.1\"><span class=\"toc-item-num\">9.1.1&nbsp;&nbsp;</span>Price</a></span></li><li><span><a href=\"#Condition\" data-toc-modified-id=\"Condition-9.1.2\"><span class=\"toc-item-num\">9.1.2&nbsp;&nbsp;</span>Condition</a></span></li><li><span><a href=\"#Age-of-a-vehicle-when-the-ad-was-placed\" data-toc-modified-id=\"Age-of-a-vehicle-when-the-ad-was-placed-9.1.3\"><span class=\"toc-item-num\">9.1.3&nbsp;&nbsp;</span>Age of a vehicle when the ad was placed</a></span></li><li><span><a href=\"#Odometer\" data-toc-modified-id=\"Odometer-9.1.4\"><span class=\"toc-item-num\">9.1.4&nbsp;&nbsp;</span>Odometer</a></span></li><li><span><a href=\"#Cylinders\" data-toc-modified-id=\"Cylinders-9.1.5\"><span class=\"toc-item-num\">9.1.5&nbsp;&nbsp;</span>Cylinders</a></span></li><li><span><a href=\"#Days_listed\" data-toc-modified-id=\"Days_listed-9.1.6\"><span class=\"toc-item-num\">9.1.6&nbsp;&nbsp;</span>Days_listed</a></span></li></ul></li><li><span><a href=\"#Removing-outliers\" data-toc-modified-id=\"Removing-outliers-9.2\"><span class=\"toc-item-num\">9.2&nbsp;&nbsp;</span>Removing outliers</a></span><ul class=\"toc-item\"><li><span><a href=\"#Identifying-type-of-a-distribution\" data-toc-modified-id=\"Identifying-type-of-a-distribution-9.2.1\"><span class=\"toc-item-num\">9.2.1&nbsp;&nbsp;</span>Identifying type of a distribution</a></span></li><li><span><a href=\"#Using-IQR-to-remove-outliers\" data-toc-modified-id=\"Using-IQR-to-remove-outliers-9.2.2\"><span class=\"toc-item-num\">9.2.2&nbsp;&nbsp;</span>Using IQR to remove outliers</a></span></li><li><span><a href=\"#Filtered-data-histograms\" data-toc-modified-id=\"Filtered-data-histograms-9.2.3\"><span class=\"toc-item-num\">9.2.3&nbsp;&nbsp;</span>Filtered data histograms</a></span></li></ul></li><li><span><a href=\"#Type-of-vehicles\" data-toc-modified-id=\"Type-of-vehicles-9.3\"><span class=\"toc-item-num\">9.3&nbsp;&nbsp;</span>Type of vehicles</a></span></li><li><span><a href=\"#Factors-influencing-price\" data-toc-modified-id=\"Factors-influencing-price-9.4\"><span class=\"toc-item-num\">9.4&nbsp;&nbsp;</span>Factors influencing price</a></span><ul class=\"toc-item\"><li><span><a href=\"#Condition-vs-price\" data-toc-modified-id=\"Condition-vs-price-9.4.1\"><span class=\"toc-item-num\">9.4.1&nbsp;&nbsp;</span>Condition vs price</a></span></li><li><span><a href=\"#Transmission-type-vs-price\" data-toc-modified-id=\"Transmission-type-vs-price-9.4.2\"><span class=\"toc-item-num\">9.4.2&nbsp;&nbsp;</span>Transmission type vs price</a></span></li><li><span><a href=\"#Paint-color-vs-price\" data-toc-modified-id=\"Paint-color-vs-price-9.4.3\"><span class=\"toc-item-num\">9.4.3&nbsp;&nbsp;</span>Paint color vs price</a></span></li><li><span><a href=\"#Age-vs-price\" data-toc-modified-id=\"Age-vs-price-9.4.4\"><span class=\"toc-item-num\">9.4.4&nbsp;&nbsp;</span>Age vs price</a></span></li><li><span><a href=\"#Mileage-vs-price\" data-toc-modified-id=\"Mileage-vs-price-9.4.5\"><span class=\"toc-item-num\">9.4.5&nbsp;&nbsp;</span>Mileage vs price</a></span></li></ul></li></ul></li></ul></div>"
   ]
  },
  {
   "cell_type": "markdown",
   "metadata": {},
   "source": [
    "### Goal\n",
    "Prepare a report for the Crankshaft List to determine whether age, mileage, condition, transmission type, and color influence the price of a vehicle based on the data collected over the last few years."
   ]
  },
  {
   "cell_type": "markdown",
   "metadata": {},
   "source": [
    "### Hypothesis\n",
    "Based on common sense, we predict the following tendencies:\n",
    "1. The older a vehicle, the lower the price;\n",
    "2. The higher the mileage, the lower the price;\n",
    "3. A vehicle with the condition 'new' should be more expensive than one with condition 'salvage';\n",
    "4. A transmission type is probably customer dependent and should not have a clear connection to the price;\n",
    "5. Color is also a preference of a particular customer but still some colors might be more popular than the others, so the price of a vehicle may be higher for a more popular color."
   ]
  },
  {
   "cell_type": "markdown",
   "metadata": {},
   "source": [
    "### Description of the data\n",
    "The dataset contains the following fields:\n",
    "\n",
    "- `price`\n",
    "- `model_year`\n",
    "- `model`\n",
    "- `condition`\n",
    "- `cylinders`\n",
    "- `fuel` — gas, diesel, etc.\n",
    "- `odometer` — the vehicle's mileage when the ad was published\n",
    "- `transmission`\n",
    "- `paint_color`\n",
    "- `is_4wd` — whether the vehicle has 4-wheel drive (Boolean type)\n",
    "- `date_posted` — the date the ad was published\n",
    "- `days_listed` — from publication to removal"
   ]
  },
  {
   "cell_type": "markdown",
   "metadata": {},
   "source": [
    "### Imports"
   ]
  },
  {
   "cell_type": "code",
   "execution_count": 111,
   "metadata": {},
   "outputs": [
    {
     "name": "stdout",
     "output_type": "stream",
     "text": [
      "Setup Complete\n"
     ]
    }
   ],
   "source": [
    "import pandas as pd\n",
    "import numpy as np\n",
    "\n",
    "import matplotlib.pyplot as plt\n",
    "%matplotlib inline\n",
    "\n",
    "import sys\n",
    "import warnings\n",
    "if not sys.warnoptions:\n",
    "       warnings.simplefilter(\"ignore\")\n",
    "\n",
    "# pd.set_option('display.max_rows', None)\n",
    "\n",
    "print(\"Setup Complete\")"
   ]
  },
  {
   "cell_type": "markdown",
   "metadata": {},
   "source": [
    "### Input data"
   ]
  },
  {
   "cell_type": "code",
   "execution_count": 112,
   "metadata": {},
   "outputs": [],
   "source": [
    "try:\n",
    "    df = pd.read_csv('vehicles_us.csv')\n",
    "except:\n",
    "    df = pd.read_csv('/datasets/vehicles_us.csv')"
   ]
  },
  {
   "cell_type": "markdown",
   "metadata": {},
   "source": [
    "### Overview"
   ]
  },
  {
   "cell_type": "code",
   "execution_count": 113,
   "metadata": {},
   "outputs": [
    {
     "data": {
      "text/html": [
       "<div>\n",
       "<style scoped>\n",
       "    .dataframe tbody tr th:only-of-type {\n",
       "        vertical-align: middle;\n",
       "    }\n",
       "\n",
       "    .dataframe tbody tr th {\n",
       "        vertical-align: top;\n",
       "    }\n",
       "\n",
       "    .dataframe thead th {\n",
       "        text-align: right;\n",
       "    }\n",
       "</style>\n",
       "<table border=\"1\" class=\"dataframe\">\n",
       "  <thead>\n",
       "    <tr style=\"text-align: right;\">\n",
       "      <th></th>\n",
       "      <th>price</th>\n",
       "      <th>model_year</th>\n",
       "      <th>model</th>\n",
       "      <th>condition</th>\n",
       "      <th>cylinders</th>\n",
       "      <th>fuel</th>\n",
       "      <th>odometer</th>\n",
       "      <th>transmission</th>\n",
       "      <th>type</th>\n",
       "      <th>paint_color</th>\n",
       "      <th>is_4wd</th>\n",
       "      <th>date_posted</th>\n",
       "      <th>days_listed</th>\n",
       "    </tr>\n",
       "  </thead>\n",
       "  <tbody>\n",
       "    <tr>\n",
       "      <th>0</th>\n",
       "      <td>9400</td>\n",
       "      <td>2011.0</td>\n",
       "      <td>bmw x5</td>\n",
       "      <td>good</td>\n",
       "      <td>6.0</td>\n",
       "      <td>gas</td>\n",
       "      <td>145000.0</td>\n",
       "      <td>automatic</td>\n",
       "      <td>SUV</td>\n",
       "      <td>NaN</td>\n",
       "      <td>1.0</td>\n",
       "      <td>2018-06-23</td>\n",
       "      <td>19</td>\n",
       "    </tr>\n",
       "    <tr>\n",
       "      <th>1</th>\n",
       "      <td>25500</td>\n",
       "      <td>NaN</td>\n",
       "      <td>ford f-150</td>\n",
       "      <td>good</td>\n",
       "      <td>6.0</td>\n",
       "      <td>gas</td>\n",
       "      <td>88705.0</td>\n",
       "      <td>automatic</td>\n",
       "      <td>pickup</td>\n",
       "      <td>white</td>\n",
       "      <td>1.0</td>\n",
       "      <td>2018-10-19</td>\n",
       "      <td>50</td>\n",
       "    </tr>\n",
       "    <tr>\n",
       "      <th>2</th>\n",
       "      <td>5500</td>\n",
       "      <td>2013.0</td>\n",
       "      <td>hyundai sonata</td>\n",
       "      <td>like new</td>\n",
       "      <td>4.0</td>\n",
       "      <td>gas</td>\n",
       "      <td>110000.0</td>\n",
       "      <td>automatic</td>\n",
       "      <td>sedan</td>\n",
       "      <td>red</td>\n",
       "      <td>NaN</td>\n",
       "      <td>2019-02-07</td>\n",
       "      <td>79</td>\n",
       "    </tr>\n",
       "    <tr>\n",
       "      <th>3</th>\n",
       "      <td>1500</td>\n",
       "      <td>2003.0</td>\n",
       "      <td>ford f-150</td>\n",
       "      <td>fair</td>\n",
       "      <td>8.0</td>\n",
       "      <td>gas</td>\n",
       "      <td>NaN</td>\n",
       "      <td>automatic</td>\n",
       "      <td>pickup</td>\n",
       "      <td>NaN</td>\n",
       "      <td>NaN</td>\n",
       "      <td>2019-03-22</td>\n",
       "      <td>9</td>\n",
       "    </tr>\n",
       "    <tr>\n",
       "      <th>4</th>\n",
       "      <td>14900</td>\n",
       "      <td>2017.0</td>\n",
       "      <td>chrysler 200</td>\n",
       "      <td>excellent</td>\n",
       "      <td>4.0</td>\n",
       "      <td>gas</td>\n",
       "      <td>80903.0</td>\n",
       "      <td>automatic</td>\n",
       "      <td>sedan</td>\n",
       "      <td>black</td>\n",
       "      <td>NaN</td>\n",
       "      <td>2019-04-02</td>\n",
       "      <td>28</td>\n",
       "    </tr>\n",
       "    <tr>\n",
       "      <th>5</th>\n",
       "      <td>14990</td>\n",
       "      <td>2014.0</td>\n",
       "      <td>chrysler 300</td>\n",
       "      <td>excellent</td>\n",
       "      <td>6.0</td>\n",
       "      <td>gas</td>\n",
       "      <td>57954.0</td>\n",
       "      <td>automatic</td>\n",
       "      <td>sedan</td>\n",
       "      <td>black</td>\n",
       "      <td>1.0</td>\n",
       "      <td>2018-06-20</td>\n",
       "      <td>15</td>\n",
       "    </tr>\n",
       "    <tr>\n",
       "      <th>6</th>\n",
       "      <td>12990</td>\n",
       "      <td>2015.0</td>\n",
       "      <td>toyota camry</td>\n",
       "      <td>excellent</td>\n",
       "      <td>4.0</td>\n",
       "      <td>gas</td>\n",
       "      <td>79212.0</td>\n",
       "      <td>automatic</td>\n",
       "      <td>sedan</td>\n",
       "      <td>white</td>\n",
       "      <td>NaN</td>\n",
       "      <td>2018-12-27</td>\n",
       "      <td>73</td>\n",
       "    </tr>\n",
       "    <tr>\n",
       "      <th>7</th>\n",
       "      <td>15990</td>\n",
       "      <td>2013.0</td>\n",
       "      <td>honda pilot</td>\n",
       "      <td>excellent</td>\n",
       "      <td>6.0</td>\n",
       "      <td>gas</td>\n",
       "      <td>109473.0</td>\n",
       "      <td>automatic</td>\n",
       "      <td>SUV</td>\n",
       "      <td>black</td>\n",
       "      <td>1.0</td>\n",
       "      <td>2019-01-07</td>\n",
       "      <td>68</td>\n",
       "    </tr>\n",
       "    <tr>\n",
       "      <th>8</th>\n",
       "      <td>11500</td>\n",
       "      <td>2012.0</td>\n",
       "      <td>kia sorento</td>\n",
       "      <td>excellent</td>\n",
       "      <td>4.0</td>\n",
       "      <td>gas</td>\n",
       "      <td>104174.0</td>\n",
       "      <td>automatic</td>\n",
       "      <td>SUV</td>\n",
       "      <td>NaN</td>\n",
       "      <td>1.0</td>\n",
       "      <td>2018-07-16</td>\n",
       "      <td>19</td>\n",
       "    </tr>\n",
       "    <tr>\n",
       "      <th>9</th>\n",
       "      <td>9200</td>\n",
       "      <td>2008.0</td>\n",
       "      <td>honda pilot</td>\n",
       "      <td>excellent</td>\n",
       "      <td>NaN</td>\n",
       "      <td>gas</td>\n",
       "      <td>147191.0</td>\n",
       "      <td>automatic</td>\n",
       "      <td>SUV</td>\n",
       "      <td>blue</td>\n",
       "      <td>1.0</td>\n",
       "      <td>2019-02-15</td>\n",
       "      <td>17</td>\n",
       "    </tr>\n",
       "  </tbody>\n",
       "</table>\n",
       "</div>"
      ],
      "text/plain": [
       "   price  model_year           model  condition  cylinders fuel  odometer  \\\n",
       "0   9400      2011.0          bmw x5       good        6.0  gas  145000.0   \n",
       "1  25500         NaN      ford f-150       good        6.0  gas   88705.0   \n",
       "2   5500      2013.0  hyundai sonata   like new        4.0  gas  110000.0   \n",
       "3   1500      2003.0      ford f-150       fair        8.0  gas       NaN   \n",
       "4  14900      2017.0    chrysler 200  excellent        4.0  gas   80903.0   \n",
       "5  14990      2014.0    chrysler 300  excellent        6.0  gas   57954.0   \n",
       "6  12990      2015.0    toyota camry  excellent        4.0  gas   79212.0   \n",
       "7  15990      2013.0     honda pilot  excellent        6.0  gas  109473.0   \n",
       "8  11500      2012.0     kia sorento  excellent        4.0  gas  104174.0   \n",
       "9   9200      2008.0     honda pilot  excellent        NaN  gas  147191.0   \n",
       "\n",
       "  transmission    type paint_color  is_4wd date_posted  days_listed  \n",
       "0    automatic     SUV         NaN     1.0  2018-06-23           19  \n",
       "1    automatic  pickup       white     1.0  2018-10-19           50  \n",
       "2    automatic   sedan         red     NaN  2019-02-07           79  \n",
       "3    automatic  pickup         NaN     NaN  2019-03-22            9  \n",
       "4    automatic   sedan       black     NaN  2019-04-02           28  \n",
       "5    automatic   sedan       black     1.0  2018-06-20           15  \n",
       "6    automatic   sedan       white     NaN  2018-12-27           73  \n",
       "7    automatic     SUV       black     1.0  2019-01-07           68  \n",
       "8    automatic     SUV         NaN     1.0  2018-07-16           19  \n",
       "9    automatic     SUV        blue     1.0  2019-02-15           17  "
      ]
     },
     "execution_count": 113,
     "metadata": {},
     "output_type": "execute_result"
    }
   ],
   "source": [
    "df.head(10)"
   ]
  },
  {
   "cell_type": "code",
   "execution_count": 114,
   "metadata": {},
   "outputs": [
    {
     "name": "stdout",
     "output_type": "stream",
     "text": [
      "<class 'pandas.core.frame.DataFrame'>\n",
      "RangeIndex: 51525 entries, 0 to 51524\n",
      "Data columns (total 13 columns):\n",
      " #   Column        Non-Null Count  Dtype  \n",
      "---  ------        --------------  -----  \n",
      " 0   price         51525 non-null  int64  \n",
      " 1   model_year    47906 non-null  float64\n",
      " 2   model         51525 non-null  object \n",
      " 3   condition     51525 non-null  object \n",
      " 4   cylinders     46265 non-null  float64\n",
      " 5   fuel          51525 non-null  object \n",
      " 6   odometer      43633 non-null  float64\n",
      " 7   transmission  51525 non-null  object \n",
      " 8   type          51525 non-null  object \n",
      " 9   paint_color   42258 non-null  object \n",
      " 10  is_4wd        25572 non-null  float64\n",
      " 11  date_posted   51525 non-null  object \n",
      " 12  days_listed   51525 non-null  int64  \n",
      "dtypes: float64(4), int64(2), object(7)\n",
      "memory usage: 5.1+ MB\n"
     ]
    }
   ],
   "source": [
    "df.info()"
   ]
  },
  {
   "cell_type": "markdown",
   "metadata": {},
   "source": [
    "From the table above we can make the following conclusions:\n",
    "\n",
    "- The data set includes 51525 observations and 13 columns;\n",
    "- The `price` column is the target variable and the other 12 columns are features;\n",
    "- 4 features are numerical, the other 9 are categorical;\n",
    "- Float data type should be changed to integer;\n",
    "- `is_4wd` is a float but it's a categorical (binary) variable is essence (True = 1, False = 0); \n",
    "- `date_posted` column should be converted to a date_time format;\n",
    "- Values are missing in the `model_year`, `cylinders`, `odometer`, `paint_color`, `is_4wd` (almost a half is missing);\n",
    "- The column names seem to be correct."
   ]
  },
  {
   "cell_type": "code",
   "execution_count": 115,
   "metadata": {},
   "outputs": [
    {
     "data": {
      "text/html": [
       "<div>\n",
       "<style scoped>\n",
       "    .dataframe tbody tr th:only-of-type {\n",
       "        vertical-align: middle;\n",
       "    }\n",
       "\n",
       "    .dataframe tbody tr th {\n",
       "        vertical-align: top;\n",
       "    }\n",
       "\n",
       "    .dataframe thead th {\n",
       "        text-align: right;\n",
       "    }\n",
       "</style>\n",
       "<table border=\"1\" class=\"dataframe\">\n",
       "  <thead>\n",
       "    <tr style=\"text-align: right;\">\n",
       "      <th></th>\n",
       "      <th>price</th>\n",
       "      <th>model_year</th>\n",
       "      <th>cylinders</th>\n",
       "      <th>odometer</th>\n",
       "      <th>is_4wd</th>\n",
       "      <th>days_listed</th>\n",
       "    </tr>\n",
       "  </thead>\n",
       "  <tbody>\n",
       "    <tr>\n",
       "      <th>count</th>\n",
       "      <td>51525.000000</td>\n",
       "      <td>47906.000000</td>\n",
       "      <td>46265.000000</td>\n",
       "      <td>43633.000000</td>\n",
       "      <td>25572.0</td>\n",
       "      <td>51525.00000</td>\n",
       "    </tr>\n",
       "    <tr>\n",
       "      <th>mean</th>\n",
       "      <td>12132.464920</td>\n",
       "      <td>2009.750470</td>\n",
       "      <td>6.125235</td>\n",
       "      <td>115553.461738</td>\n",
       "      <td>1.0</td>\n",
       "      <td>39.55476</td>\n",
       "    </tr>\n",
       "    <tr>\n",
       "      <th>std</th>\n",
       "      <td>10040.803015</td>\n",
       "      <td>6.282065</td>\n",
       "      <td>1.660360</td>\n",
       "      <td>65094.611341</td>\n",
       "      <td>0.0</td>\n",
       "      <td>28.20427</td>\n",
       "    </tr>\n",
       "    <tr>\n",
       "      <th>min</th>\n",
       "      <td>1.000000</td>\n",
       "      <td>1908.000000</td>\n",
       "      <td>3.000000</td>\n",
       "      <td>0.000000</td>\n",
       "      <td>1.0</td>\n",
       "      <td>0.00000</td>\n",
       "    </tr>\n",
       "    <tr>\n",
       "      <th>25%</th>\n",
       "      <td>5000.000000</td>\n",
       "      <td>2006.000000</td>\n",
       "      <td>4.000000</td>\n",
       "      <td>70000.000000</td>\n",
       "      <td>1.0</td>\n",
       "      <td>19.00000</td>\n",
       "    </tr>\n",
       "    <tr>\n",
       "      <th>50%</th>\n",
       "      <td>9000.000000</td>\n",
       "      <td>2011.000000</td>\n",
       "      <td>6.000000</td>\n",
       "      <td>113000.000000</td>\n",
       "      <td>1.0</td>\n",
       "      <td>33.00000</td>\n",
       "    </tr>\n",
       "    <tr>\n",
       "      <th>75%</th>\n",
       "      <td>16839.000000</td>\n",
       "      <td>2014.000000</td>\n",
       "      <td>8.000000</td>\n",
       "      <td>155000.000000</td>\n",
       "      <td>1.0</td>\n",
       "      <td>53.00000</td>\n",
       "    </tr>\n",
       "    <tr>\n",
       "      <th>max</th>\n",
       "      <td>375000.000000</td>\n",
       "      <td>2019.000000</td>\n",
       "      <td>12.000000</td>\n",
       "      <td>990000.000000</td>\n",
       "      <td>1.0</td>\n",
       "      <td>271.00000</td>\n",
       "    </tr>\n",
       "  </tbody>\n",
       "</table>\n",
       "</div>"
      ],
      "text/plain": [
       "               price    model_year     cylinders       odometer   is_4wd  \\\n",
       "count   51525.000000  47906.000000  46265.000000   43633.000000  25572.0   \n",
       "mean    12132.464920   2009.750470      6.125235  115553.461738      1.0   \n",
       "std     10040.803015      6.282065      1.660360   65094.611341      0.0   \n",
       "min         1.000000   1908.000000      3.000000       0.000000      1.0   \n",
       "25%      5000.000000   2006.000000      4.000000   70000.000000      1.0   \n",
       "50%      9000.000000   2011.000000      6.000000  113000.000000      1.0   \n",
       "75%     16839.000000   2014.000000      8.000000  155000.000000      1.0   \n",
       "max    375000.000000   2019.000000     12.000000  990000.000000      1.0   \n",
       "\n",
       "       days_listed  \n",
       "count  51525.00000  \n",
       "mean      39.55476  \n",
       "std       28.20427  \n",
       "min        0.00000  \n",
       "25%       19.00000  \n",
       "50%       33.00000  \n",
       "75%       53.00000  \n",
       "max      271.00000  "
      ]
     },
     "execution_count": 115,
     "metadata": {},
     "output_type": "execute_result"
    }
   ],
   "source": [
    "df.describe()"
   ]
  },
  {
   "cell_type": "markdown",
   "metadata": {},
   "source": [
    "From the table above we can make the following conclusions:\n",
    "\n",
    "- The minimum value of the `price` variable is 1, so there is probably an error that should be fixed;\n",
    "- In the `is_4wd` variable there is only one value category = '1.0'. It confirms our hypothesis that it's actually a binary feature, where '1' is 'True' and '0' is 'False'. All the missing values should therefore be replaced with '0';\n",
    "- For the `price` variable we see that the mean is higher than the median value suggesting that the distribution has a long tail of large values."
   ]
  },
  {
   "cell_type": "markdown",
   "metadata": {},
   "source": [
    "### Preprocessing\n",
    "#### Artifacts\n",
    "##### Price\n",
    "First, let's look at our target variable `price`, see its distribution and clean up any artifacts."
   ]
  },
  {
   "cell_type": "code",
   "execution_count": 116,
   "metadata": {
    "scrolled": true
   },
   "outputs": [
    {
     "data": {
      "image/png": "[encoded data removed]",
      "text/plain": [
       "<Figure size 432x288 with 1 Axes>"
      ]
     },
     "metadata": {
      "needs_background": "light"
     },
     "output_type": "display_data"
    }
   ],
   "source": [
    "df.hist('price', bins=100, range=(0,100000))\n",
    "plt.title('Price of vehicles: frequency distribution')\n",
    "plt.xlabel('price')\n",
    "plt.ylabel('number of vehicles');"
   ]
  },
  {
   "cell_type": "markdown",
   "metadata": {},
   "source": [
    "We can see that the distribution is positively skewed with the peak at around 5000. Let's create a box plot for this variable to have a look at the interquartile range and measure its dispersion."
   ]
  },
  {
   "cell_type": "code",
   "execution_count": 117,
   "metadata": {},
   "outputs": [
    {
     "data": {
      "image/png": "[encoded data removed]",
      "text/plain": [
       "<Figure size 432x288 with 1 Axes>"
      ]
     },
     "metadata": {
      "needs_background": "light"
     },
     "output_type": "display_data"
    }
   ],
   "source": [
    "df.boxplot('price')\n",
    "plt.ylim(-350, 50000)\n",
    "plt.title('Price of vehicles: box-and-whiskers plot')\n",
    "plt.xticks([1], [''])\n",
    "plt.ylabel('price');"
   ]
  },
  {
   "cell_type": "markdown",
   "metadata": {},
   "source": [
    "We can see that most values lie in the range between 5 000 and 17 000 with the median of around 9000. The whiskers turned out to be asymmetrical with respect to the box: the lower whisker is 0, while the upper whisker is 1.5 IQR above the upper limit of the box. Let's add quartiles and theoretical whisker values to the plot."
   ]
  },
  {
   "cell_type": "code",
   "execution_count": 118,
   "metadata": {},
   "outputs": [
    {
     "data": {
      "image/png": "[encoded data removed]",
      "text/plain": [
       "<Figure size 432x288 with 1 Axes>"
      ]
     },
     "metadata": {
      "needs_background": "light"
     },
     "output_type": "display_data"
    }
   ],
   "source": [
    "Q1 = df['price'].quantile(0.25)\n",
    "Q3 = df['price'].quantile(0.75)\n",
    "IQR = Q3 - Q1\n",
    "lower_whisker = Q1 - 1.5 * IQR\n",
    "plt.ylim(-20000, 50000)\n",
    "df.boxplot('price')\n",
    "plt.hlines(y=lower_whisker, xmin=0.9, xmax=1.1, color='red')\n",
    "\n",
    "plt.title('Price of vehicles: box plot with theoretical whisker')\n",
    "plt.xticks([1], [''])\n",
    "plt.ylabel('price');"
   ]
  },
  {
   "cell_type": "markdown",
   "metadata": {},
   "source": [
    "We see that the theoretical value of the lower whisker is smaller than the minimum, that's why it was rendered at the minimum value before. Usually, anything above the upper whisker (and below the lower whisker) is considered an outlier, but since there are so many of them (the black line is thick), they are not outliers but rather a feature of this dataset. So these must be some super luxury cars, let's take a look at the car with the highest price in this data set."
   ]
  },
  {
   "cell_type": "code",
   "execution_count": 119,
   "metadata": {},
   "outputs": [
    {
     "data": {
      "text/html": [
       "<div>\n",
       "<style scoped>\n",
       "    .dataframe tbody tr th:only-of-type {\n",
       "        vertical-align: middle;\n",
       "    }\n",
       "\n",
       "    .dataframe tbody tr th {\n",
       "        vertical-align: top;\n",
       "    }\n",
       "\n",
       "    .dataframe thead th {\n",
       "        text-align: right;\n",
       "    }\n",
       "</style>\n",
       "<table border=\"1\" class=\"dataframe\">\n",
       "  <thead>\n",
       "    <tr style=\"text-align: right;\">\n",
       "      <th></th>\n",
       "      <th>price</th>\n",
       "      <th>model_year</th>\n",
       "      <th>model</th>\n",
       "      <th>condition</th>\n",
       "      <th>cylinders</th>\n",
       "      <th>fuel</th>\n",
       "      <th>odometer</th>\n",
       "      <th>transmission</th>\n",
       "      <th>type</th>\n",
       "      <th>paint_color</th>\n",
       "      <th>is_4wd</th>\n",
       "      <th>date_posted</th>\n",
       "      <th>days_listed</th>\n",
       "    </tr>\n",
       "  </thead>\n",
       "  <tbody>\n",
       "    <tr>\n",
       "      <th>12504</th>\n",
       "      <td>375000</td>\n",
       "      <td>1999.0</td>\n",
       "      <td>nissan frontier</td>\n",
       "      <td>good</td>\n",
       "      <td>6.0</td>\n",
       "      <td>gas</td>\n",
       "      <td>115000.0</td>\n",
       "      <td>automatic</td>\n",
       "      <td>pickup</td>\n",
       "      <td>blue</td>\n",
       "      <td>1.0</td>\n",
       "      <td>2018-05-19</td>\n",
       "      <td>21</td>\n",
       "    </tr>\n",
       "  </tbody>\n",
       "</table>\n",
       "</div>"
      ],
      "text/plain": [
       "        price  model_year            model condition  cylinders fuel  \\\n",
       "12504  375000      1999.0  nissan frontier      good        6.0  gas   \n",
       "\n",
       "       odometer transmission    type paint_color  is_4wd date_posted  \\\n",
       "12504  115000.0    automatic  pickup        blue     1.0  2018-05-19   \n",
       "\n",
       "       days_listed  \n",
       "12504           21  "
      ]
     },
     "execution_count": 119,
     "metadata": {},
     "output_type": "execute_result"
    }
   ],
   "source": [
    "df[df['price'] == df['price'].max()]"
   ]
  },
  {
   "cell_type": "markdown",
   "metadata": {},
   "source": [
    "When googling the price of this particular model, it seems to be 10 times lower in reality (around 37 500 usd). This fact suggests that there has been some kind of a mistake (human or technical) in the data preparation."
   ]
  },
  {
   "cell_type": "markdown",
   "metadata": {},
   "source": [
    "###### Car brand\n",
    "In this section we are going to identify observations with unusually high prices. It seems reasonable to assume that the price range is dependent on the car type and also on the car brand. First, we will extract the car brand from the model name and then group the data based on both type and brand."
   ]
  },
  {
   "cell_type": "code",
   "execution_count": 120,
   "metadata": {},
   "outputs": [
    {
     "data": {
      "text/plain": [
       "ford f-150                  2796\n",
       "chevrolet silverado 1500    2171\n",
       "ram 1500                    1750\n",
       "chevrolet silverado         1271\n",
       "jeep wrangler               1119\n",
       "Name: model, dtype: int64"
      ]
     },
     "execution_count": 120,
     "metadata": {},
     "output_type": "execute_result"
    }
   ],
   "source": [
    "df['model'].value_counts().head()"
   ]
  },
  {
   "cell_type": "markdown",
   "metadata": {},
   "source": [
    "We see that the first word in the model name is the car brand. Let's create a function that will extract the brand name."
   ]
  },
  {
   "cell_type": "code",
   "execution_count": 121,
   "metadata": {},
   "outputs": [],
   "source": [
    "def brand(row):\n",
    "    \"\"\"\n",
    "    Takes in a vehicle's model and returns its brand\n",
    "    \"\"\"\n",
    "    \n",
    "    model = row['model']\n",
    "    model_split = model.split(' ')\n",
    "    brand = model_split[0]\n",
    "    return brand"
   ]
  },
  {
   "cell_type": "code",
   "execution_count": 122,
   "metadata": {},
   "outputs": [],
   "source": [
    "df['brand'] = df.apply(brand, axis=1)"
   ]
  },
  {
   "cell_type": "code",
   "execution_count": 123,
   "metadata": {},
   "outputs": [
    {
     "data": {
      "text/plain": [
       "ford             12672\n",
       "chevrolet        10611\n",
       "toyota            5445\n",
       "honda             3485\n",
       "ram               3316\n",
       "jeep              3281\n",
       "nissan            3208\n",
       "gmc               2378\n",
       "subaru            1272\n",
       "dodge             1255\n",
       "hyundai           1173\n",
       "volkswagen         869\n",
       "chrysler           838\n",
       "kia                585\n",
       "cadillac           322\n",
       "buick              271\n",
       "bmw                267\n",
       "acura              236\n",
       "mercedes-benz       41\n",
       "Name: brand, dtype: int64"
      ]
     },
     "execution_count": 123,
     "metadata": {},
     "output_type": "execute_result"
    }
   ],
   "source": [
    "df['brand'].value_counts()"
   ]
  },
  {
   "cell_type": "code",
   "execution_count": 124,
   "metadata": {},
   "outputs": [
    {
     "data": {
      "image/png": "[encoded data removed]",
      "text/plain": [
       "<Figure size 720x288 with 1 Axes>"
      ]
     },
     "metadata": {
      "needs_background": "light"
     },
     "output_type": "display_data"
    }
   ],
   "source": [
    "df['brand'].value_counts().plot(kind='bar', figsize=(10,4))\n",
    "plt.title(\"Popularity of vehicles' brands\")\n",
    "plt.xlabel('brand')\n",
    "plt.ylabel('frequency');"
   ]
  },
  {
   "cell_type": "markdown",
   "metadata": {},
   "source": [
    "Ford, Chevrolet and Toyota are the most popular brands in this dataset. Mercedes-benz is the least popular brand in this dataset, probably because it's a luxury brand, so not as many people are able to afford it, compared to Ford, for instance."
   ]
  },
  {
   "cell_type": "markdown",
   "metadata": {},
   "source": [
    "###### Unusually high values\n",
    "Let's now group the data based on both type and brand of a car. We will display the median price for each category, price of the 95th and 99th quantile and also count how many cars we have in these categories."
   ]
  },
  {
   "cell_type": "code",
   "execution_count": 125,
   "metadata": {},
   "outputs": [
    {
     "data": {
      "text/html": [
       "<div>\n",
       "<style scoped>\n",
       "    .dataframe tbody tr th:only-of-type {\n",
       "        vertical-align: middle;\n",
       "    }\n",
       "\n",
       "    .dataframe tbody tr th {\n",
       "        vertical-align: top;\n",
       "    }\n",
       "\n",
       "    .dataframe thead th {\n",
       "        text-align: right;\n",
       "    }\n",
       "</style>\n",
       "<table border=\"1\" class=\"dataframe\">\n",
       "  <thead>\n",
       "    <tr style=\"text-align: right;\">\n",
       "      <th></th>\n",
       "      <th></th>\n",
       "      <th>q50</th>\n",
       "      <th>price_q95</th>\n",
       "      <th>over_q95_cnt</th>\n",
       "      <th>price_q99</th>\n",
       "      <th>over_q99_cnt</th>\n",
       "      <th>price_max</th>\n",
       "    </tr>\n",
       "    <tr>\n",
       "      <th>brand</th>\n",
       "      <th>type</th>\n",
       "      <th></th>\n",
       "      <th></th>\n",
       "      <th></th>\n",
       "      <th></th>\n",
       "      <th></th>\n",
       "      <th></th>\n",
       "    </tr>\n",
       "  </thead>\n",
       "  <tbody>\n",
       "    <tr>\n",
       "      <th rowspan=\"3\" valign=\"top\">acura</th>\n",
       "      <th>SUV</th>\n",
       "      <td>4950.0</td>\n",
       "      <td>4950.0</td>\n",
       "      <td>0</td>\n",
       "      <td>4950.00</td>\n",
       "      <td>0</td>\n",
       "      <td>4950</td>\n",
       "    </tr>\n",
       "    <tr>\n",
       "      <th>other</th>\n",
       "      <td>4595.0</td>\n",
       "      <td>5400.5</td>\n",
       "      <td>1</td>\n",
       "      <td>5472.10</td>\n",
       "      <td>1</td>\n",
       "      <td>5490</td>\n",
       "    </tr>\n",
       "    <tr>\n",
       "      <th>sedan</th>\n",
       "      <td>5950.0</td>\n",
       "      <td>12995.0</td>\n",
       "      <td>10</td>\n",
       "      <td>13845.00</td>\n",
       "      <td>3</td>\n",
       "      <td>14498</td>\n",
       "    </tr>\n",
       "    <tr>\n",
       "      <th rowspan=\"2\" valign=\"top\">bmw</th>\n",
       "      <th>SUV</th>\n",
       "      <td>9925.0</td>\n",
       "      <td>23999.0</td>\n",
       "      <td>11</td>\n",
       "      <td>36030.68</td>\n",
       "      <td>3</td>\n",
       "      <td>50000</td>\n",
       "    </tr>\n",
       "    <tr>\n",
       "      <th>hatchback</th>\n",
       "      <td>6000.0</td>\n",
       "      <td>6000.0</td>\n",
       "      <td>0</td>\n",
       "      <td>6000.00</td>\n",
       "      <td>0</td>\n",
       "      <td>6000</td>\n",
       "    </tr>\n",
       "  </tbody>\n",
       "</table>\n",
       "</div>"
      ],
      "text/plain": [
       "                    q50  price_q95  over_q95_cnt  price_q99  over_q99_cnt  \\\n",
       "brand type                                                                  \n",
       "acura SUV        4950.0     4950.0             0    4950.00             0   \n",
       "      other      4595.0     5400.5             1    5472.10             1   \n",
       "      sedan      5950.0    12995.0            10   13845.00             3   \n",
       "bmw   SUV        9925.0    23999.0            11   36030.68             3   \n",
       "      hatchback  6000.0     6000.0             0    6000.00             0   \n",
       "\n",
       "                 price_max  \n",
       "brand type                  \n",
       "acura SUV             4950  \n",
       "      other           5490  \n",
       "      sedan          14498  \n",
       "bmw   SUV            50000  \n",
       "      hatchback       6000  "
      ]
     },
     "execution_count": 125,
     "metadata": {},
     "output_type": "execute_result"
    }
   ],
   "source": [
    "def q95(x): \n",
    "    return np.quantile(x, 0.95)\n",
    "def q99(x):\n",
    "    return np.quantile(x, 0.99)\n",
    "def over_q95_cnt(x):\n",
    "    return sum(x > np.quantile(x, 0.95))\n",
    "def over_q99_cnt(x):\n",
    "    return sum(x > np.quantile(x, 0.99))\n",
    "df.groupby(['brand','type']).agg(q50=('price', 'median'), \n",
    "                       price_q95=('price', q95), \n",
    "                       over_q95_cnt=('price', over_q95_cnt), \n",
    "                       price_q99=('price', q99), \n",
    "                       over_q99_cnt=('price', over_q99_cnt), \n",
    "                       price_max=('price', 'max')).head()"
   ]
  },
  {
   "cell_type": "markdown",
   "metadata": {},
   "source": [
    "Based on the above table, we will assume that all cars with their prices over the 98th quantile in the same group are unusual cases. They are either overpriced, or some luxury cases, or were just incorrectly inputted. We see that their number is minor and not impacting much this analysis, so we are going to exclude them."
   ]
  },
  {
   "cell_type": "code",
   "execution_count": 126,
   "metadata": {},
   "outputs": [],
   "source": [
    "q99 = df.groupby(['brand','type']).agg(price_q99=('price', q99))\n",
    "q99_dict = q99.to_dict()"
   ]
  },
  {
   "cell_type": "code",
   "execution_count": 127,
   "metadata": {},
   "outputs": [],
   "source": [
    "def filter_price_artifacts(row):\n",
    "    \"\"\"\n",
    "    Takes in a row of a data frame, if the price of this row lower than limit price \n",
    "    for this type and brand from the q99_dict, returns True, else returns False.\n",
    "    \"\"\"\n",
    "    if row['price'] < q99_dict['price_q99'][(row['brand'], row['type'])]:\n",
    "        result = True\n",
    "    else:\n",
    "        result = False\n",
    "    return result"
   ]
  },
  {
   "cell_type": "code",
   "execution_count": 128,
   "metadata": {},
   "outputs": [],
   "source": [
    "decently_priced = df.apply(filter_price_artifacts, axis=1)\n",
    "df = df[decently_priced]"
   ]
  },
  {
   "cell_type": "code",
   "execution_count": 129,
   "metadata": {},
   "outputs": [],
   "source": [
    "df.reset_index(drop=True, inplace=True)"
   ]
  },
  {
   "cell_type": "code",
   "execution_count": 130,
   "metadata": {},
   "outputs": [
    {
     "data": {
      "text/plain": [
       "(50802, 14)"
      ]
     },
     "execution_count": 130,
     "metadata": {},
     "output_type": "execute_result"
    }
   ],
   "source": [
    "df.shape"
   ]
  },
  {
   "cell_type": "markdown",
   "metadata": {},
   "source": [
    "723 observations were removed."
   ]
  },
  {
   "cell_type": "markdown",
   "metadata": {},
   "source": [
    "###### Other artifacts"
   ]
  },
  {
   "cell_type": "markdown",
   "metadata": {},
   "source": [
    "While looking at the `price` we noticed another probable mistake: price = 12345. Let's correct it by replacing this value with the medians for the model and type."
   ]
  },
  {
   "cell_type": "code",
   "execution_count": 131,
   "metadata": {},
   "outputs": [
    {
     "data": {
      "text/html": [
       "<div>\n",
       "<style scoped>\n",
       "    .dataframe tbody tr th:only-of-type {\n",
       "        vertical-align: middle;\n",
       "    }\n",
       "\n",
       "    .dataframe tbody tr th {\n",
       "        vertical-align: top;\n",
       "    }\n",
       "\n",
       "    .dataframe thead th {\n",
       "        text-align: right;\n",
       "    }\n",
       "</style>\n",
       "<table border=\"1\" class=\"dataframe\">\n",
       "  <thead>\n",
       "    <tr style=\"text-align: right;\">\n",
       "      <th></th>\n",
       "      <th>price</th>\n",
       "      <th>model_year</th>\n",
       "      <th>model</th>\n",
       "      <th>condition</th>\n",
       "      <th>cylinders</th>\n",
       "      <th>fuel</th>\n",
       "      <th>odometer</th>\n",
       "      <th>transmission</th>\n",
       "      <th>type</th>\n",
       "      <th>paint_color</th>\n",
       "      <th>is_4wd</th>\n",
       "      <th>date_posted</th>\n",
       "      <th>days_listed</th>\n",
       "      <th>brand</th>\n",
       "    </tr>\n",
       "  </thead>\n",
       "  <tbody>\n",
       "  </tbody>\n",
       "</table>\n",
       "</div>"
      ],
      "text/plain": [
       "Empty DataFrame\n",
       "Columns: [price, model_year, model, condition, cylinders, fuel, odometer, transmission, type, paint_color, is_4wd, date_posted, days_listed, brand]\n",
       "Index: []"
      ]
     },
     "execution_count": 131,
     "metadata": {},
     "output_type": "execute_result"
    }
   ],
   "source": [
    "df[df['price'] == 123456]"
   ]
  },
  {
   "cell_type": "code",
   "execution_count": 132,
   "metadata": {},
   "outputs": [],
   "source": [
    "df.loc[(df.index == 29810) | (df.index == 36822), 'price'] = df.query('model == \"chevrolet suburban\" and type == \"truck\"')['price'].median()"
   ]
  },
  {
   "cell_type": "code",
   "execution_count": 133,
   "metadata": {},
   "outputs": [],
   "source": [
    "df.loc[df.index == 42853, 'price'] = df.query('model == \"chevrolet suburban\" and type == \"SUV\"')['price'].median()"
   ]
  },
  {
   "cell_type": "markdown",
   "metadata": {},
   "source": [
    "Same issue in the `odometer` column. Let's also correct it with the median."
   ]
  },
  {
   "cell_type": "code",
   "execution_count": 134,
   "metadata": {},
   "outputs": [
    {
     "data": {
      "text/html": [
       "<div>\n",
       "<style scoped>\n",
       "    .dataframe tbody tr th:only-of-type {\n",
       "        vertical-align: middle;\n",
       "    }\n",
       "\n",
       "    .dataframe tbody tr th {\n",
       "        vertical-align: top;\n",
       "    }\n",
       "\n",
       "    .dataframe thead th {\n",
       "        text-align: right;\n",
       "    }\n",
       "</style>\n",
       "<table border=\"1\" class=\"dataframe\">\n",
       "  <thead>\n",
       "    <tr style=\"text-align: right;\">\n",
       "      <th></th>\n",
       "      <th>price</th>\n",
       "      <th>model_year</th>\n",
       "      <th>model</th>\n",
       "      <th>condition</th>\n",
       "      <th>cylinders</th>\n",
       "      <th>fuel</th>\n",
       "      <th>odometer</th>\n",
       "      <th>transmission</th>\n",
       "      <th>type</th>\n",
       "      <th>paint_color</th>\n",
       "      <th>is_4wd</th>\n",
       "      <th>date_posted</th>\n",
       "      <th>days_listed</th>\n",
       "      <th>brand</th>\n",
       "    </tr>\n",
       "  </thead>\n",
       "  <tbody>\n",
       "  </tbody>\n",
       "</table>\n",
       "</div>"
      ],
      "text/plain": [
       "Empty DataFrame\n",
       "Columns: [price, model_year, model, condition, cylinders, fuel, odometer, transmission, type, paint_color, is_4wd, date_posted, days_listed, brand]\n",
       "Index: []"
      ]
     },
     "execution_count": 134,
     "metadata": {},
     "output_type": "execute_result"
    }
   ],
   "source": [
    "df[df['odometer'] == 123456]"
   ]
  },
  {
   "cell_type": "code",
   "execution_count": 135,
   "metadata": {},
   "outputs": [],
   "source": [
    "df.loc[df.index == 29810, 'odometer'] = df.query('model == \"chevrolet suburban\" and type == \"truck\"')['odometer'].median()"
   ]
  },
  {
   "cell_type": "code",
   "execution_count": 136,
   "metadata": {},
   "outputs": [
    {
     "data": {
      "text/plain": [
       "(50802, 14)"
      ]
     },
     "execution_count": 136,
     "metadata": {},
     "output_type": "execute_result"
    }
   ],
   "source": [
    "df.shape"
   ]
  },
  {
   "cell_type": "markdown",
   "metadata": {},
   "source": [
    "#### Missing values"
   ]
  },
  {
   "cell_type": "markdown",
   "metadata": {},
   "source": [
    "First, let's drop all the rows with a NaN in each column."
   ]
  },
  {
   "cell_type": "code",
   "execution_count": 137,
   "metadata": {},
   "outputs": [],
   "source": [
    "df = df.dropna(how='all', axis=0)"
   ]
  },
  {
   "cell_type": "code",
   "execution_count": 138,
   "metadata": {},
   "outputs": [
    {
     "data": {
      "text/plain": [
       "(50802, 14)"
      ]
     },
     "execution_count": 138,
     "metadata": {},
     "output_type": "execute_result"
    }
   ],
   "source": [
    "df.shape"
   ]
  },
  {
   "cell_type": "markdown",
   "metadata": {},
   "source": [
    "There has been 720 such observations."
   ]
  },
  {
   "cell_type": "markdown",
   "metadata": {},
   "source": [
    "##### Is_4wd\n",
    "Based on the above conclusions, let's replace all the missing values in this column with 0."
   ]
  },
  {
   "cell_type": "code",
   "execution_count": 139,
   "metadata": {},
   "outputs": [],
   "source": [
    "df['is_4wd'] = df['is_4wd'].fillna(0)"
   ]
  },
  {
   "cell_type": "markdown",
   "metadata": {},
   "source": [
    "##### Odometer"
   ]
  },
  {
   "cell_type": "code",
   "execution_count": 140,
   "metadata": {},
   "outputs": [
    {
     "data": {
      "image/png": "[encoded data removed]",
      "text/plain": [
       "<Figure size 432x288 with 1 Axes>"
      ]
     },
     "metadata": {
      "needs_background": "light"
     },
     "output_type": "display_data"
    }
   ],
   "source": [
    "df['odometer'].dropna().astype('int').hist(bins=100)\n",
    "plt.xlim(0,500000)\n",
    "plt.title(\"Mileage of a vehicle\")\n",
    "plt.xlabel('odometer value')\n",
    "plt.ylabel('frequency');"
   ]
  },
  {
   "cell_type": "markdown",
   "metadata": {},
   "source": [
    "The distribution looks more or less normal, a little positively skewed. We see a peak at 0, let's take a closer look at these rows."
   ]
  },
  {
   "cell_type": "code",
   "execution_count": 141,
   "metadata": {},
   "outputs": [
    {
     "data": {
      "text/html": [
       "<div>\n",
       "<style scoped>\n",
       "    .dataframe tbody tr th:only-of-type {\n",
       "        vertical-align: middle;\n",
       "    }\n",
       "\n",
       "    .dataframe tbody tr th {\n",
       "        vertical-align: top;\n",
       "    }\n",
       "\n",
       "    .dataframe thead th {\n",
       "        text-align: right;\n",
       "    }\n",
       "</style>\n",
       "<table border=\"1\" class=\"dataframe\">\n",
       "  <thead>\n",
       "    <tr style=\"text-align: right;\">\n",
       "      <th></th>\n",
       "      <th>price</th>\n",
       "      <th>model_year</th>\n",
       "      <th>model</th>\n",
       "      <th>condition</th>\n",
       "      <th>cylinders</th>\n",
       "      <th>fuel</th>\n",
       "      <th>odometer</th>\n",
       "      <th>transmission</th>\n",
       "      <th>type</th>\n",
       "      <th>paint_color</th>\n",
       "      <th>is_4wd</th>\n",
       "      <th>date_posted</th>\n",
       "      <th>days_listed</th>\n",
       "      <th>brand</th>\n",
       "    </tr>\n",
       "  </thead>\n",
       "  <tbody>\n",
       "    <tr>\n",
       "      <th>347</th>\n",
       "      <td>7997.0</td>\n",
       "      <td>2009.0</td>\n",
       "      <td>gmc yukon</td>\n",
       "      <td>excellent</td>\n",
       "      <td>8.0</td>\n",
       "      <td>gas</td>\n",
       "      <td>0.0</td>\n",
       "      <td>automatic</td>\n",
       "      <td>SUV</td>\n",
       "      <td>white</td>\n",
       "      <td>1.0</td>\n",
       "      <td>2019-03-16</td>\n",
       "      <td>88</td>\n",
       "      <td>gmc</td>\n",
       "    </tr>\n",
       "    <tr>\n",
       "      <th>805</th>\n",
       "      <td>2995.0</td>\n",
       "      <td>1999.0</td>\n",
       "      <td>ford f-150</td>\n",
       "      <td>good</td>\n",
       "      <td>6.0</td>\n",
       "      <td>gas</td>\n",
       "      <td>0.0</td>\n",
       "      <td>manual</td>\n",
       "      <td>truck</td>\n",
       "      <td>NaN</td>\n",
       "      <td>0.0</td>\n",
       "      <td>2019-03-14</td>\n",
       "      <td>16</td>\n",
       "      <td>ford</td>\n",
       "    </tr>\n",
       "    <tr>\n",
       "      <th>1356</th>\n",
       "      <td>5888.0</td>\n",
       "      <td>NaN</td>\n",
       "      <td>toyota 4runner</td>\n",
       "      <td>good</td>\n",
       "      <td>6.0</td>\n",
       "      <td>gas</td>\n",
       "      <td>0.0</td>\n",
       "      <td>automatic</td>\n",
       "      <td>SUV</td>\n",
       "      <td>black</td>\n",
       "      <td>0.0</td>\n",
       "      <td>2019-02-22</td>\n",
       "      <td>36</td>\n",
       "      <td>toyota</td>\n",
       "    </tr>\n",
       "    <tr>\n",
       "      <th>1442</th>\n",
       "      <td>1000.0</td>\n",
       "      <td>1992.0</td>\n",
       "      <td>gmc sierra 1500</td>\n",
       "      <td>good</td>\n",
       "      <td>8.0</td>\n",
       "      <td>gas</td>\n",
       "      <td>0.0</td>\n",
       "      <td>automatic</td>\n",
       "      <td>truck</td>\n",
       "      <td>NaN</td>\n",
       "      <td>0.0</td>\n",
       "      <td>2018-09-28</td>\n",
       "      <td>47</td>\n",
       "      <td>gmc</td>\n",
       "    </tr>\n",
       "    <tr>\n",
       "      <th>1935</th>\n",
       "      <td>10988.0</td>\n",
       "      <td>2000.0</td>\n",
       "      <td>ford f-250 sd</td>\n",
       "      <td>good</td>\n",
       "      <td>8.0</td>\n",
       "      <td>diesel</td>\n",
       "      <td>0.0</td>\n",
       "      <td>automatic</td>\n",
       "      <td>truck</td>\n",
       "      <td>white</td>\n",
       "      <td>1.0</td>\n",
       "      <td>2018-11-21</td>\n",
       "      <td>39</td>\n",
       "      <td>ford</td>\n",
       "    </tr>\n",
       "    <tr>\n",
       "      <th>2014</th>\n",
       "      <td>30000.0</td>\n",
       "      <td>1969.0</td>\n",
       "      <td>chevrolet corvette</td>\n",
       "      <td>excellent</td>\n",
       "      <td>8.0</td>\n",
       "      <td>other</td>\n",
       "      <td>0.0</td>\n",
       "      <td>automatic</td>\n",
       "      <td>convertible</td>\n",
       "      <td>white</td>\n",
       "      <td>0.0</td>\n",
       "      <td>2018-08-01</td>\n",
       "      <td>20</td>\n",
       "      <td>chevrolet</td>\n",
       "    </tr>\n",
       "    <tr>\n",
       "      <th>2042</th>\n",
       "      <td>11888.0</td>\n",
       "      <td>2010.0</td>\n",
       "      <td>chevrolet silverado 1500</td>\n",
       "      <td>good</td>\n",
       "      <td>8.0</td>\n",
       "      <td>gas</td>\n",
       "      <td>0.0</td>\n",
       "      <td>automatic</td>\n",
       "      <td>truck</td>\n",
       "      <td>white</td>\n",
       "      <td>0.0</td>\n",
       "      <td>2018-07-02</td>\n",
       "      <td>24</td>\n",
       "      <td>chevrolet</td>\n",
       "    </tr>\n",
       "    <tr>\n",
       "      <th>2463</th>\n",
       "      <td>3000.0</td>\n",
       "      <td>2006.0</td>\n",
       "      <td>honda civic</td>\n",
       "      <td>good</td>\n",
       "      <td>NaN</td>\n",
       "      <td>gas</td>\n",
       "      <td>0.0</td>\n",
       "      <td>automatic</td>\n",
       "      <td>sedan</td>\n",
       "      <td>silver</td>\n",
       "      <td>0.0</td>\n",
       "      <td>2018-06-02</td>\n",
       "      <td>37</td>\n",
       "      <td>honda</td>\n",
       "    </tr>\n",
       "    <tr>\n",
       "      <th>3581</th>\n",
       "      <td>4200.0</td>\n",
       "      <td>NaN</td>\n",
       "      <td>nissan murano</td>\n",
       "      <td>good</td>\n",
       "      <td>6.0</td>\n",
       "      <td>gas</td>\n",
       "      <td>0.0</td>\n",
       "      <td>automatic</td>\n",
       "      <td>SUV</td>\n",
       "      <td>red</td>\n",
       "      <td>1.0</td>\n",
       "      <td>2018-08-24</td>\n",
       "      <td>21</td>\n",
       "      <td>nissan</td>\n",
       "    </tr>\n",
       "    <tr>\n",
       "      <th>4117</th>\n",
       "      <td>11888.0</td>\n",
       "      <td>2010.0</td>\n",
       "      <td>chevrolet silverado 1500</td>\n",
       "      <td>good</td>\n",
       "      <td>8.0</td>\n",
       "      <td>gas</td>\n",
       "      <td>0.0</td>\n",
       "      <td>automatic</td>\n",
       "      <td>truck</td>\n",
       "      <td>white</td>\n",
       "      <td>0.0</td>\n",
       "      <td>2018-12-06</td>\n",
       "      <td>71</td>\n",
       "      <td>chevrolet</td>\n",
       "    </tr>\n",
       "  </tbody>\n",
       "</table>\n",
       "</div>"
      ],
      "text/plain": [
       "        price  model_year                     model  condition  cylinders  \\\n",
       "347    7997.0      2009.0                 gmc yukon  excellent        8.0   \n",
       "805    2995.0      1999.0                ford f-150       good        6.0   \n",
       "1356   5888.0         NaN            toyota 4runner       good        6.0   \n",
       "1442   1000.0      1992.0           gmc sierra 1500       good        8.0   \n",
       "1935  10988.0      2000.0             ford f-250 sd       good        8.0   \n",
       "2014  30000.0      1969.0        chevrolet corvette  excellent        8.0   \n",
       "2042  11888.0      2010.0  chevrolet silverado 1500       good        8.0   \n",
       "2463   3000.0      2006.0               honda civic       good        NaN   \n",
       "3581   4200.0         NaN             nissan murano       good        6.0   \n",
       "4117  11888.0      2010.0  chevrolet silverado 1500       good        8.0   \n",
       "\n",
       "        fuel  odometer transmission         type paint_color  is_4wd  \\\n",
       "347      gas       0.0    automatic          SUV       white     1.0   \n",
       "805      gas       0.0       manual        truck         NaN     0.0   \n",
       "1356     gas       0.0    automatic          SUV       black     0.0   \n",
       "1442     gas       0.0    automatic        truck         NaN     0.0   \n",
       "1935  diesel       0.0    automatic        truck       white     1.0   \n",
       "2014   other       0.0    automatic  convertible       white     0.0   \n",
       "2042     gas       0.0    automatic        truck       white     0.0   \n",
       "2463     gas       0.0    automatic        sedan      silver     0.0   \n",
       "3581     gas       0.0    automatic          SUV         red     1.0   \n",
       "4117     gas       0.0    automatic        truck       white     0.0   \n",
       "\n",
       "     date_posted  days_listed      brand  \n",
       "347   2019-03-16           88        gmc  \n",
       "805   2019-03-14           16       ford  \n",
       "1356  2019-02-22           36     toyota  \n",
       "1442  2018-09-28           47        gmc  \n",
       "1935  2018-11-21           39       ford  \n",
       "2014  2018-08-01           20  chevrolet  \n",
       "2042  2018-07-02           24  chevrolet  \n",
       "2463  2018-06-02           37      honda  \n",
       "3581  2018-08-24           21     nissan  \n",
       "4117  2018-12-06           71  chevrolet  "
      ]
     },
     "execution_count": 141,
     "metadata": {},
     "output_type": "execute_result"
    }
   ],
   "source": [
    "df[df['odometer'] == 0].head(10)"
   ]
  },
  {
   "cell_type": "markdown",
   "metadata": {},
   "source": [
    "Based on these vehicle's model year, we can see that they are not new cars, the condition is sometimes only 'fair', so we will assume that the 0 value in the `odometer` column is also an error. We will replace it with 'NaN' and then fill all the 'NaN' values with the median based on grouping by `model` and `type`."
   ]
  },
  {
   "cell_type": "code",
   "execution_count": 142,
   "metadata": {},
   "outputs": [],
   "source": [
    "df.loc[df['odometer'] == 0, 'odometer'] = np.nan"
   ]
  },
  {
   "cell_type": "code",
   "execution_count": 143,
   "metadata": {},
   "outputs": [],
   "source": [
    "df['odometer'] = df.groupby(['model','type'])['odometer'].apply(lambda x: x.fillna(x.median()))"
   ]
  },
  {
   "cell_type": "code",
   "execution_count": 144,
   "metadata": {},
   "outputs": [
    {
     "data": {
      "text/plain": [
       "13"
      ]
     },
     "execution_count": 144,
     "metadata": {},
     "output_type": "execute_result"
    }
   ],
   "source": [
    "df['odometer'].isnull().sum()"
   ]
  },
  {
   "cell_type": "markdown",
   "metadata": {},
   "source": [
    "These 13 observations are unique in this data set (only 1 row with the model and type combination), so for them we don't have proper medians to fill in the `odometer` column. We are forced to exclude them from the data frame. "
   ]
  },
  {
   "cell_type": "code",
   "execution_count": 145,
   "metadata": {},
   "outputs": [],
   "source": [
    "df = df.dropna(subset=['odometer'], axis=0)\n",
    "df.reset_index(drop=True, inplace=True)"
   ]
  },
  {
   "cell_type": "code",
   "execution_count": 146,
   "metadata": {},
   "outputs": [
    {
     "data": {
      "text/plain": [
       "(50789, 14)"
      ]
     },
     "execution_count": 146,
     "metadata": {},
     "output_type": "execute_result"
    }
   ],
   "source": [
    "df.shape"
   ]
  },
  {
   "cell_type": "markdown",
   "metadata": {},
   "source": [
    "##### Model_year"
   ]
  },
  {
   "cell_type": "markdown",
   "metadata": {},
   "source": [
    "First, we will find a median value in `odometer` column per year for each model and type. For missing `model_year` values we divide `odometer` value by median odometer per year value. It gives the number of years in exploitation. Then subtracting from the posting year the number of exploitation years gives us the missing `model_year` value.\n",
    "\n",
    "Let's create a column `year_posted` first. For that we'll need to convert `date_posted` to datetime format."
   ]
  },
  {
   "cell_type": "code",
   "execution_count": 147,
   "metadata": {},
   "outputs": [],
   "source": [
    "df['date_posted']= pd.to_datetime(df['date_posted'])\n",
    "df['year_posted'] = df['date_posted'].dt.year"
   ]
  },
  {
   "cell_type": "markdown",
   "metadata": {},
   "source": [
    "Next, we'll subtract `model_year` from `year_posted`."
   ]
  },
  {
   "cell_type": "code",
   "execution_count": 148,
   "metadata": {},
   "outputs": [],
   "source": [
    "df['exploitation_years'] = df['year_posted'] - df['model_year']"
   ]
  },
  {
   "cell_type": "markdown",
   "metadata": {},
   "source": [
    "Now let's calculate odometer per year value for each observation."
   ]
  },
  {
   "cell_type": "code",
   "execution_count": 149,
   "metadata": {},
   "outputs": [],
   "source": [
    "df['odometer_per_year'] = df['odometer'] / df['exploitation_years']"
   ]
  },
  {
   "cell_type": "markdown",
   "metadata": {},
   "source": [
    "Next step is to find a median `odometer_per_year` value for each type and model combination."
   ]
  },
  {
   "cell_type": "code",
   "execution_count": 150,
   "metadata": {},
   "outputs": [],
   "source": [
    "odometer_per_year_dict = df.groupby(['model','type'])['odometer_per_year'].median().to_dict()"
   ]
  },
  {
   "cell_type": "markdown",
   "metadata": {},
   "source": [
    "For each row where `model_year` is NaN, we will take `odometer` value and divide it by median `odometer_per_year` for this model and type combination and save this value in the `exploitation_years` column, then subtract `exploitation_years` from the `year-posted` column and save this value to the `model_year` column. "
   ]
  },
  {
   "cell_type": "code",
   "execution_count": 151,
   "metadata": {},
   "outputs": [],
   "source": [
    "def fill_in_model_year(row):\n",
    "    \"\"\"\n",
    "    Takes in a row and if the model_year of this row is NaN, takes `odometer` value and \n",
    "    divides it by median `odometer_per_year` for this model and type combination \n",
    "    and saves this value in the `exploitation_years` column, \n",
    "    then subtracts `exploitation_years` from the `year-posted` column and saves this value to the `model_year` column. \n",
    "    \"\"\"\n",
    "    if np.isnan(row['model_year']):\n",
    "        row['exploitation_years'] = row['odometer'] / odometer_per_year_dict[(row['model'], row['type'])]\n",
    "        row['model_year'] = row['year_posted'] - row['exploitation_years']\n",
    "    return row"
   ]
  },
  {
   "cell_type": "code",
   "execution_count": 152,
   "metadata": {},
   "outputs": [],
   "source": [
    "df = df.apply(fill_in_model_year, axis=1)"
   ]
  },
  {
   "cell_type": "code",
   "execution_count": 153,
   "metadata": {},
   "outputs": [
    {
     "data": {
      "text/plain": [
       "7"
      ]
     },
     "execution_count": 153,
     "metadata": {},
     "output_type": "execute_result"
    }
   ],
   "source": [
    "df['model_year'].isnull().sum()"
   ]
  },
  {
   "cell_type": "markdown",
   "metadata": {},
   "source": [
    "These 7 observations are unique in this data set (only 1 row with the model and type combination), so for them we don't have proper medians to fill in the `model_year` column. We are forced to exclude them from the data frame. "
   ]
  },
  {
   "cell_type": "code",
   "execution_count": 154,
   "metadata": {},
   "outputs": [
    {
     "data": {
      "text/plain": [
       "(50782, 17)"
      ]
     },
     "execution_count": 154,
     "metadata": {},
     "output_type": "execute_result"
    }
   ],
   "source": [
    "df = df.dropna(subset=['model_year'], axis=0)\n",
    "df.reset_index(drop=True, inplace=True)\n",
    "\n",
    "df.shape"
   ]
  },
  {
   "cell_type": "markdown",
   "metadata": {},
   "source": [
    "Finally, let's change the data type to integer."
   ]
  },
  {
   "cell_type": "code",
   "execution_count": 155,
   "metadata": {},
   "outputs": [],
   "source": [
    "df['model_year'] = df['model_year'].astype('int')"
   ]
  },
  {
   "cell_type": "markdown",
   "metadata": {},
   "source": [
    "We don't need the `odometer_per_year` and `exploitation_years` columns anymore, so let's remove them."
   ]
  },
  {
   "cell_type": "code",
   "execution_count": 156,
   "metadata": {},
   "outputs": [
    {
     "data": {
      "text/plain": [
       "(50782, 15)"
      ]
     },
     "execution_count": 156,
     "metadata": {},
     "output_type": "execute_result"
    }
   ],
   "source": [
    "df = df.drop(['odometer_per_year','exploitation_years'], axis=1)\n",
    "df.reset_index(drop=True, inplace=True)\n",
    "\n",
    "df.shape"
   ]
  },
  {
   "cell_type": "markdown",
   "metadata": {},
   "source": [
    "##### Cylinders\n",
    "Missing `cylinders` values will be filled with the median value of a respective group based on the model and type of a vehicle. We assume that cars with the same model (e.g. cadillac escalade) but different types (e.g. SUV and pickup) have different number of cylinders because their engines were designed for different purposes."
   ]
  },
  {
   "cell_type": "code",
   "execution_count": 157,
   "metadata": {},
   "outputs": [],
   "source": [
    "df['cylinders'] = df.groupby(['model','type'])['cylinders'].apply(lambda x: x.fillna(x.median()))"
   ]
  },
  {
   "cell_type": "code",
   "execution_count": 158,
   "metadata": {},
   "outputs": [
    {
     "data": {
      "text/plain": [
       "10"
      ]
     },
     "execution_count": 158,
     "metadata": {},
     "output_type": "execute_result"
    }
   ],
   "source": [
    "df['cylinders'].isnull().sum()"
   ]
  },
  {
   "cell_type": "markdown",
   "metadata": {},
   "source": [
    "These 10 observations are unique in this data set (only 1 row with the model and type combination), so for them we don't have proper medians to fill in the `cylinders` column. We are forced to exclude them from the data frame. "
   ]
  },
  {
   "cell_type": "code",
   "execution_count": 159,
   "metadata": {},
   "outputs": [
    {
     "data": {
      "text/plain": [
       "(50772, 15)"
      ]
     },
     "execution_count": 159,
     "metadata": {},
     "output_type": "execute_result"
    }
   ],
   "source": [
    "df = df.dropna(subset=['cylinders'], axis=0)\n",
    "df.reset_index(drop=True, inplace=True)\n",
    "\n",
    "df.shape"
   ]
  },
  {
   "cell_type": "markdown",
   "metadata": {},
   "source": [
    "##### Paint color"
   ]
  },
  {
   "cell_type": "code",
   "execution_count": 160,
   "metadata": {},
   "outputs": [
    {
     "data": {
      "text/plain": [
       "white     9844\n",
       "black     7526\n",
       "silver    6177\n",
       "grey      4969\n",
       "blue      4412\n",
       "red       4372\n",
       "green     1388\n",
       "brown     1218\n",
       "custom    1142\n",
       "yellow     250\n",
       "orange     224\n",
       "purple     102\n",
       "Name: paint_color, dtype: int64"
      ]
     },
     "execution_count": 160,
     "metadata": {},
     "output_type": "execute_result"
    }
   ],
   "source": [
    "df['paint_color'].value_counts()"
   ]
  },
  {
   "cell_type": "code",
   "execution_count": 161,
   "metadata": {},
   "outputs": [],
   "source": [
    "df['paint_color'] = df['paint_color'].fillna('missing')"
   ]
  },
  {
   "cell_type": "code",
   "execution_count": 162,
   "metadata": {},
   "outputs": [
    {
     "data": {
      "text/plain": [
       "price           0\n",
       "model_year      0\n",
       "model           0\n",
       "condition       0\n",
       "cylinders       0\n",
       "fuel            0\n",
       "odometer        0\n",
       "transmission    0\n",
       "type            0\n",
       "paint_color     0\n",
       "is_4wd          0\n",
       "date_posted     0\n",
       "days_listed     0\n",
       "brand           0\n",
       "year_posted     0\n",
       "dtype: int64"
      ]
     },
     "execution_count": 162,
     "metadata": {},
     "output_type": "execute_result"
    }
   ],
   "source": [
    "df.isnull().sum()"
   ]
  },
  {
   "cell_type": "markdown",
   "metadata": {},
   "source": [
    "All the missing values have been filled."
   ]
  },
  {
   "cell_type": "markdown",
   "metadata": {},
   "source": [
    "#### Data type change"
   ]
  },
  {
   "cell_type": "markdown",
   "metadata": {},
   "source": [
    "Let's change all the float data types (except for `price` as it is supposed to be a float) into integers."
   ]
  },
  {
   "cell_type": "code",
   "execution_count": 163,
   "metadata": {},
   "outputs": [],
   "source": [
    "for column in ['price','odometer','cylinders','is_4wd','days_listed']:\n",
    "    df[column] = df[column].astype('int')"
   ]
  },
  {
   "cell_type": "code",
   "execution_count": 164,
   "metadata": {},
   "outputs": [
    {
     "data": {
      "text/plain": [
       "price                    int64\n",
       "model_year               int64\n",
       "model                   object\n",
       "condition               object\n",
       "cylinders                int64\n",
       "fuel                    object\n",
       "odometer                 int64\n",
       "transmission            object\n",
       "type                    object\n",
       "paint_color             object\n",
       "is_4wd                   int64\n",
       "date_posted     datetime64[ns]\n",
       "days_listed              int64\n",
       "brand                   object\n",
       "year_posted              int64\n",
       "dtype: object"
      ]
     },
     "execution_count": 164,
     "metadata": {},
     "output_type": "execute_result"
    }
   ],
   "source": [
    "df.dtypes"
   ]
  },
  {
   "cell_type": "markdown",
   "metadata": {},
   "source": [
    "#### Duplicates\n",
    "Let's check if any rows are duplicated."
   ]
  },
  {
   "cell_type": "code",
   "execution_count": 165,
   "metadata": {},
   "outputs": [
    {
     "data": {
      "text/plain": [
       "0"
      ]
     },
     "execution_count": 165,
     "metadata": {},
     "output_type": "execute_result"
    }
   ],
   "source": [
    "df.duplicated().sum()"
   ]
  },
  {
   "cell_type": "markdown",
   "metadata": {},
   "source": [
    "### Calculations"
   ]
  },
  {
   "cell_type": "markdown",
   "metadata": {},
   "source": [
    "#### Month and DOW when the ad was posted"
   ]
  },
  {
   "cell_type": "code",
   "execution_count": 166,
   "metadata": {},
   "outputs": [],
   "source": [
    "df['month_posted'] = df['date_posted'].dt.month\n",
    "df['dow_posted'] = df['date_posted'].dt.dayofweek"
   ]
  },
  {
   "cell_type": "markdown",
   "metadata": {},
   "source": [
    "#### Age in years\n",
    "Next, we'll subtract calculate the age in years of each vehicle. To be more accurate, we will first convert the `model_year` column into datetime format, so that each year will be formated 01.01.year. Then we will convert the number of days past from the purchase of a car until the posting of an ad into years."
   ]
  },
  {
   "cell_type": "code",
   "execution_count": 167,
   "metadata": {},
   "outputs": [],
   "source": [
    "df['age_in_years'] = (df['date_posted'] - pd.to_datetime(df.model_year, format='%Y'))/ np.timedelta64(1, 'Y')"
   ]
  },
  {
   "cell_type": "markdown",
   "metadata": {},
   "source": [
    "#### Average mileage per year"
   ]
  },
  {
   "cell_type": "code",
   "execution_count": 168,
   "metadata": {},
   "outputs": [],
   "source": [
    "df['avg_miles_per_year'] = df['odometer']/df['age_in_years']"
   ]
  },
  {
   "cell_type": "markdown",
   "metadata": {},
   "source": [
    "#### Condition"
   ]
  },
  {
   "cell_type": "code",
   "execution_count": 169,
   "metadata": {},
   "outputs": [],
   "source": [
    "condition_dict = {5:'new', 4:'like new', 3:'excellent', 2:'good', 1:'fair', 0:'salvage'}"
   ]
  },
  {
   "cell_type": "code",
   "execution_count": 170,
   "metadata": {},
   "outputs": [],
   "source": [
    "def get_key(val):\n",
    "    \"\"\"\n",
    "    If the val can be found in the dictinary.values() list, \n",
    "    returns the key of the dictionary item in which the val was found.\n",
    "    \"\"\"\n",
    "    \n",
    "    for key, value in condition_dict.items(): \n",
    "        if val in value: \n",
    "            return key"
   ]
  },
  {
   "cell_type": "code",
   "execution_count": 171,
   "metadata": {},
   "outputs": [],
   "source": [
    "def condition_num(row):\n",
    "    \"\"\"\n",
    "    Takes in a string describing the vehicle's condition and returns an integer according to the condition_dict.\n",
    "    \"\"\"\n",
    "    if row['condition'] in condition_dict.values():\n",
    "        return get_key(row['condition'])"
   ]
  },
  {
   "cell_type": "code",
   "execution_count": 172,
   "metadata": {},
   "outputs": [
    {
     "data": {
      "text/plain": [
       "3    24399\n",
       "2    20010\n",
       "4     4534\n",
       "1     1602\n",
       "0      115\n",
       "5      112\n",
       "Name: condition, dtype: int64"
      ]
     },
     "execution_count": 172,
     "metadata": {},
     "output_type": "execute_result"
    }
   ],
   "source": [
    "df['condition'] = df.apply(condition_num, axis=1)\n",
    "df['condition'].value_counts()"
   ]
  },
  {
   "cell_type": "markdown",
   "metadata": {},
   "source": [
    "### EDA\n",
    "#### Histograms\n",
    "##### Price"
   ]
  },
  {
   "cell_type": "code",
   "execution_count": 173,
   "metadata": {},
   "outputs": [
    {
     "data": {
      "image/png": "[encoded data removed]",
      "text/plain": [
       "<Figure size 432x288 with 1 Axes>"
      ]
     },
     "metadata": {
      "needs_background": "light"
     },
     "output_type": "display_data"
    }
   ],
   "source": [
    "df.hist('price', bins=30)\n",
    "plt.title(\"Price of a vehicle\")\n",
    "plt.xlabel('price')\n",
    "plt.ylabel('frequency');"
   ]
  },
  {
   "cell_type": "markdown",
   "metadata": {},
   "source": [
    "The `price` distribution looks normal, positively skewed due to some luxury models but overall sensible. We have got rid of abnormally high prices earlier, now let's look at abnormally low prices."
   ]
  },
  {
   "cell_type": "code",
   "execution_count": 174,
   "metadata": {},
   "outputs": [
    {
     "data": {
      "text/plain": [
       "798"
      ]
     },
     "execution_count": 174,
     "metadata": {},
     "output_type": "execute_result"
    }
   ],
   "source": [
    "len(df[df['price'] == 1])"
   ]
  },
  {
   "cell_type": "markdown",
   "metadata": {},
   "source": [
    "There are 798 vehicles with the price of 1 USD. We will assume it's an error. Let's replace them with the median price for the type and brand combination."
   ]
  },
  {
   "cell_type": "code",
   "execution_count": 175,
   "metadata": {},
   "outputs": [],
   "source": [
    "df.loc[df['price'] == 1, 'price'] = np.nan"
   ]
  },
  {
   "cell_type": "code",
   "execution_count": 176,
   "metadata": {},
   "outputs": [],
   "source": [
    "df['price'] = df.groupby(['model','type'])['price'].apply(lambda x: x.fillna(x.median()))"
   ]
  },
  {
   "cell_type": "code",
   "execution_count": 177,
   "metadata": {},
   "outputs": [
    {
     "data": {
      "text/plain": [
       "1"
      ]
     },
     "execution_count": 177,
     "metadata": {},
     "output_type": "execute_result"
    }
   ],
   "source": [
    "df['price'].isnull().sum()"
   ]
  },
  {
   "cell_type": "markdown",
   "metadata": {},
   "source": [
    "This 1 observation is unique in this data set (only 1 row with the model and type combination), so we don't have a proper median to fill it in. We are forced to exclude this row from the data frame. "
   ]
  },
  {
   "cell_type": "code",
   "execution_count": 178,
   "metadata": {},
   "outputs": [
    {
     "data": {
      "text/plain": [
       "(50771, 19)"
      ]
     },
     "execution_count": 178,
     "metadata": {},
     "output_type": "execute_result"
    }
   ],
   "source": [
    "df = df.dropna(subset=['price'], axis=0)\n",
    "df.reset_index(drop=True, inplace=True)\n",
    "\n",
    "df.shape"
   ]
  },
  {
   "cell_type": "markdown",
   "metadata": {},
   "source": [
    "##### Condition"
   ]
  },
  {
   "cell_type": "code",
   "execution_count": 179,
   "metadata": {},
   "outputs": [
    {
     "data": {
      "image/png": "[encoded data removed]",
      "text/plain": [
       "<Figure size 432x288 with 1 Axes>"
      ]
     },
     "metadata": {
      "needs_background": "light"
     },
     "output_type": "display_data"
    }
   ],
   "source": [
    "df.hist('condition', bins=5)\n",
    "plt.title(\"Condition of a vehicle\")\n",
    "plt.xlabel('condition score (0 - worst, 5 - best)')\n",
    "plt.ylabel('frequency');"
   ]
  },
  {
   "cell_type": "markdown",
   "metadata": {},
   "source": [
    "Most vehicles are in \"like new\" and \"excellent\". Just a few are in a \"salvage\" condition. Let's see if there is a link between price and condition."
   ]
  },
  {
   "cell_type": "code",
   "execution_count": 180,
   "metadata": {},
   "outputs": [
    {
     "data": {
      "image/png": "[encoded data removed]",
      "text/plain": [
       "<Figure size 576x288 with 1 Axes>"
      ]
     },
     "metadata": {
      "needs_background": "light"
     },
     "output_type": "display_data"
    }
   ],
   "source": [
    "df.plot(x='condition', y='price', kind='scatter', figsize=(8,4))\n",
    "plt.title('Link between price and condition of a vehicle');"
   ]
  },
  {
   "cell_type": "markdown",
   "metadata": {},
   "source": [
    "Although the price is in fact lower for vehicles with worse condition, we don't see an obvious tendency that the better the condition, the higher the price. It is probably due to other vehicle's features like number of cylinders, model, brand, type and so on."
   ]
  },
  {
   "cell_type": "markdown",
   "metadata": {},
   "source": [
    "##### Age of a vehicle when the ad was placed"
   ]
  },
  {
   "cell_type": "code",
   "execution_count": 181,
   "metadata": {},
   "outputs": [
    {
     "data": {
      "image/png": "[encoded data removed]",
      "text/plain": [
       "<Figure size 432x288 with 1 Axes>"
      ]
     },
     "metadata": {
      "needs_background": "light"
     },
     "output_type": "display_data"
    }
   ],
   "source": [
    "df.hist('age_in_years', bins=100, range=(0,60))\n",
    "plt.title(\"Age of a vehicle when the ad was placed\")\n",
    "plt.xlabel('age in years')\n",
    "plt.ylabel('frequency');"
   ]
  },
  {
   "cell_type": "code",
   "execution_count": 182,
   "metadata": {},
   "outputs": [
    {
     "name": "stdout",
     "output_type": "stream",
     "text": [
      "9.12\n"
     ]
    }
   ],
   "source": [
    "print('{:0.2f}'.format(df['age_in_years'].mean()))"
   ]
  },
  {
   "cell_type": "code",
   "execution_count": 183,
   "metadata": {},
   "outputs": [
    {
     "name": "stdout",
     "output_type": "stream",
     "text": [
      "8.08\n"
     ]
    }
   ],
   "source": [
    "print('{:0.2f}'.format(df['age_in_years'].median()))"
   ]
  },
  {
   "cell_type": "markdown",
   "metadata": {},
   "source": [
    "The average and median age of a vehicle in this data set is similar - around 7-8 years. We also see quite a long tail of large values, we will remove those that we consider outliers in the next section."
   ]
  },
  {
   "cell_type": "markdown",
   "metadata": {},
   "source": [
    "##### Odometer"
   ]
  },
  {
   "cell_type": "code",
   "execution_count": 184,
   "metadata": {},
   "outputs": [
    {
     "data": {
      "image/png": "[encoded data removed]",
      "text/plain": [
       "<Figure size 432x288 with 1 Axes>"
      ]
     },
     "metadata": {
      "needs_background": "light"
     },
     "output_type": "display_data"
    }
   ],
   "source": [
    "df.hist('odometer', bins=100)\n",
    "plt.title(\"Mileage of a vehicle\")\n",
    "plt.xlabel('odometer value')\n",
    "plt.ylabel('frequency');"
   ]
  },
  {
   "cell_type": "markdown",
   "metadata": {},
   "source": [
    "Again, there is a long tail of large values that skew our distribution, we will identify and remove outliers in the next section."
   ]
  },
  {
   "cell_type": "markdown",
   "metadata": {},
   "source": [
    "##### Cylinders"
   ]
  },
  {
   "cell_type": "code",
   "execution_count": 185,
   "metadata": {},
   "outputs": [
    {
     "data": {
      "image/png": "[encoded data removed]",
      "text/plain": [
       "<Figure size 432x288 with 1 Axes>"
      ]
     },
     "metadata": {
      "needs_background": "light"
     },
     "output_type": "display_data"
    }
   ],
   "source": [
    "df.hist('cylinders', bins=10)\n",
    "plt.title(\"Number of a vehicle's cylinders\")\n",
    "plt.xlabel('number of cylinders')\n",
    "plt.ylabel('frequency');"
   ]
  },
  {
   "cell_type": "markdown",
   "metadata": {},
   "source": [
    "This variable looks good: there are just a few cars with number of cylinders less than 4 (probably some old cars) and also a few with more than 8 cylinders (probably some bigger cars like trucks and pickups). Most vehicles have 4 to 8 cylinders, which sounds reasonable. No visible outliers here."
   ]
  },
  {
   "cell_type": "markdown",
   "metadata": {},
   "source": [
    "##### Days_listed"
   ]
  },
  {
   "cell_type": "code",
   "execution_count": 186,
   "metadata": {},
   "outputs": [
    {
     "data": {
      "image/png": "[encoded data removed]",
      "text/plain": [
       "<Figure size 432x288 with 1 Axes>"
      ]
     },
     "metadata": {
      "needs_background": "light"
     },
     "output_type": "display_data"
    }
   ],
   "source": [
    "df['days_listed'].hist(bins=100)\n",
    "plt.title(\"Length of a vehicle's ad listed, in days\")\n",
    "plt.xlabel('days listed')\n",
    "plt.ylabel('frequency');"
   ]
  },
  {
   "cell_type": "code",
   "execution_count": 187,
   "metadata": {},
   "outputs": [
    {
     "name": "stdout",
     "output_type": "stream",
     "text": [
      "39.54\n"
     ]
    }
   ],
   "source": [
    "print('{:0.2f}'.format(df['days_listed'].mean()))"
   ]
  },
  {
   "cell_type": "code",
   "execution_count": 188,
   "metadata": {},
   "outputs": [
    {
     "name": "stdout",
     "output_type": "stream",
     "text": [
      "33.00\n"
     ]
    }
   ],
   "source": [
    "print('{:0.2f}'.format(df['days_listed'].median()))"
   ]
  },
  {
   "cell_type": "markdown",
   "metadata": {},
   "source": [
    "A lifetime of an ad in this dataset ranges from 0 up to around 250 days, the distribution is skewed towards large positive values. A typical ad is placed for around 30-40 days, so around 1 month. \n",
    "\n",
    "Vehicles with higher values can be considered outliers - they are probably just inadequately priced and that's the reason they couldn't have been sold for a long time. We will identify the upper limit and remove these values in the next section.\n",
    "\n",
    "Now let's have a look at the ads that were removed too quickly, meaning rows where `days_listed` is 0."
   ]
  },
  {
   "cell_type": "code",
   "execution_count": 189,
   "metadata": {},
   "outputs": [
    {
     "data": {
      "text/plain": [
       "51"
      ]
     },
     "execution_count": 189,
     "metadata": {},
     "output_type": "execute_result"
    }
   ],
   "source": [
    "len(df[df['days_listed'] == 0])"
   ]
  },
  {
   "cell_type": "code",
   "execution_count": 190,
   "metadata": {
    "scrolled": true
   },
   "outputs": [
    {
     "data": {
      "text/html": [
       "<div>\n",
       "<style scoped>\n",
       "    .dataframe tbody tr th:only-of-type {\n",
       "        vertical-align: middle;\n",
       "    }\n",
       "\n",
       "    .dataframe tbody tr th {\n",
       "        vertical-align: top;\n",
       "    }\n",
       "\n",
       "    .dataframe thead th {\n",
       "        text-align: right;\n",
       "    }\n",
       "</style>\n",
       "<table border=\"1\" class=\"dataframe\">\n",
       "  <thead>\n",
       "    <tr style=\"text-align: right;\">\n",
       "      <th></th>\n",
       "      <th>price</th>\n",
       "      <th>model_year</th>\n",
       "      <th>model</th>\n",
       "      <th>condition</th>\n",
       "      <th>cylinders</th>\n",
       "      <th>fuel</th>\n",
       "      <th>odometer</th>\n",
       "      <th>transmission</th>\n",
       "      <th>type</th>\n",
       "      <th>paint_color</th>\n",
       "      <th>is_4wd</th>\n",
       "      <th>date_posted</th>\n",
       "      <th>days_listed</th>\n",
       "      <th>brand</th>\n",
       "      <th>year_posted</th>\n",
       "      <th>month_posted</th>\n",
       "      <th>dow_posted</th>\n",
       "      <th>age_in_years</th>\n",
       "      <th>avg_miles_per_year</th>\n",
       "    </tr>\n",
       "  </thead>\n",
       "  <tbody>\n",
       "    <tr>\n",
       "      <th>1232</th>\n",
       "      <td>14995.0</td>\n",
       "      <td>2008</td>\n",
       "      <td>chevrolet silverado 1500</td>\n",
       "      <td>3</td>\n",
       "      <td>8</td>\n",
       "      <td>gas</td>\n",
       "      <td>93300</td>\n",
       "      <td>automatic</td>\n",
       "      <td>truck</td>\n",
       "      <td>grey</td>\n",
       "      <td>1</td>\n",
       "      <td>2018-05-15</td>\n",
       "      <td>0</td>\n",
       "      <td>chevrolet</td>\n",
       "      <td>2018</td>\n",
       "      <td>5</td>\n",
       "      <td>1</td>\n",
       "      <td>10.368454</td>\n",
       "      <td>8998.448706</td>\n",
       "    </tr>\n",
       "    <tr>\n",
       "      <th>1948</th>\n",
       "      <td>14000.0</td>\n",
       "      <td>1999</td>\n",
       "      <td>ford f250</td>\n",
       "      <td>3</td>\n",
       "      <td>8</td>\n",
       "      <td>diesel</td>\n",
       "      <td>137500</td>\n",
       "      <td>automatic</td>\n",
       "      <td>truck</td>\n",
       "      <td>red</td>\n",
       "      <td>1</td>\n",
       "      <td>2018-09-27</td>\n",
       "      <td>0</td>\n",
       "      <td>ford</td>\n",
       "      <td>2018</td>\n",
       "      <td>9</td>\n",
       "      <td>3</td>\n",
       "      <td>19.737572</td>\n",
       "      <td>6966.409176</td>\n",
       "    </tr>\n",
       "    <tr>\n",
       "      <th>2832</th>\n",
       "      <td>4000.0</td>\n",
       "      <td>2004</td>\n",
       "      <td>ram 1500</td>\n",
       "      <td>3</td>\n",
       "      <td>8</td>\n",
       "      <td>gas</td>\n",
       "      <td>250000</td>\n",
       "      <td>automatic</td>\n",
       "      <td>truck</td>\n",
       "      <td>brown</td>\n",
       "      <td>1</td>\n",
       "      <td>2018-08-13</td>\n",
       "      <td>0</td>\n",
       "      <td>ram</td>\n",
       "      <td>2018</td>\n",
       "      <td>8</td>\n",
       "      <td>0</td>\n",
       "      <td>14.614948</td>\n",
       "      <td>17105.774635</td>\n",
       "    </tr>\n",
       "    <tr>\n",
       "      <th>3900</th>\n",
       "      <td>16750.0</td>\n",
       "      <td>1985</td>\n",
       "      <td>chevrolet corvette</td>\n",
       "      <td>4</td>\n",
       "      <td>8</td>\n",
       "      <td>gas</td>\n",
       "      <td>24540</td>\n",
       "      <td>automatic</td>\n",
       "      <td>hatchback</td>\n",
       "      <td>white</td>\n",
       "      <td>0</td>\n",
       "      <td>2018-10-14</td>\n",
       "      <td>0</td>\n",
       "      <td>chevrolet</td>\n",
       "      <td>2018</td>\n",
       "      <td>10</td>\n",
       "      <td>6</td>\n",
       "      <td>33.783035</td>\n",
       "      <td>726.400109</td>\n",
       "    </tr>\n",
       "    <tr>\n",
       "      <th>4490</th>\n",
       "      <td>5000.0</td>\n",
       "      <td>2007</td>\n",
       "      <td>toyota corolla</td>\n",
       "      <td>2</td>\n",
       "      <td>4</td>\n",
       "      <td>gas</td>\n",
       "      <td>223000</td>\n",
       "      <td>manual</td>\n",
       "      <td>sedan</td>\n",
       "      <td>silver</td>\n",
       "      <td>0</td>\n",
       "      <td>2018-07-11</td>\n",
       "      <td>0</td>\n",
       "      <td>toyota</td>\n",
       "      <td>2018</td>\n",
       "      <td>7</td>\n",
       "      <td>2</td>\n",
       "      <td>11.523851</td>\n",
       "      <td>19351.170706</td>\n",
       "    </tr>\n",
       "  </tbody>\n",
       "</table>\n",
       "</div>"
      ],
      "text/plain": [
       "        price  model_year                     model  condition  cylinders  \\\n",
       "1232  14995.0        2008  chevrolet silverado 1500          3          8   \n",
       "1948  14000.0        1999                 ford f250          3          8   \n",
       "2832   4000.0        2004                  ram 1500          3          8   \n",
       "3900  16750.0        1985        chevrolet corvette          4          8   \n",
       "4490   5000.0        2007            toyota corolla          2          4   \n",
       "\n",
       "        fuel  odometer transmission       type paint_color  is_4wd  \\\n",
       "1232     gas     93300    automatic      truck        grey       1   \n",
       "1948  diesel    137500    automatic      truck         red       1   \n",
       "2832     gas    250000    automatic      truck       brown       1   \n",
       "3900     gas     24540    automatic  hatchback       white       0   \n",
       "4490     gas    223000       manual      sedan      silver       0   \n",
       "\n",
       "     date_posted  days_listed      brand  year_posted  month_posted  \\\n",
       "1232  2018-05-15            0  chevrolet         2018             5   \n",
       "1948  2018-09-27            0       ford         2018             9   \n",
       "2832  2018-08-13            0        ram         2018             8   \n",
       "3900  2018-10-14            0  chevrolet         2018            10   \n",
       "4490  2018-07-11            0     toyota         2018             7   \n",
       "\n",
       "      dow_posted  age_in_years  avg_miles_per_year  \n",
       "1232           1     10.368454         8998.448706  \n",
       "1948           3     19.737572         6966.409176  \n",
       "2832           0     14.614948        17105.774635  \n",
       "3900           6     33.783035          726.400109  \n",
       "4490           2     11.523851        19351.170706  "
      ]
     },
     "execution_count": 190,
     "metadata": {},
     "output_type": "execute_result"
    }
   ],
   "source": [
    "df[df['days_listed'] == 0].head()"
   ]
  },
  {
   "cell_type": "markdown",
   "metadata": {},
   "source": [
    "There are 51 ads of this type and there is no visible pattern or issue with them. However the fact that they were removed the same day as posted makes these observations suspicious. Maybe it was a technical error. We are going to replace them with the median value of a respective model and type group."
   ]
  },
  {
   "cell_type": "code",
   "execution_count": 191,
   "metadata": {},
   "outputs": [],
   "source": [
    "df.loc[df['days_listed'] == 0, 'days_listed'] = np.nan\n",
    "df['days_listed'] = df.groupby(['model','type'])['days_listed'].apply(lambda x: x.fillna(x.median()))"
   ]
  },
  {
   "cell_type": "code",
   "execution_count": 192,
   "metadata": {},
   "outputs": [
    {
     "data": {
      "text/plain": [
       "0"
      ]
     },
     "execution_count": 192,
     "metadata": {},
     "output_type": "execute_result"
    }
   ],
   "source": [
    "df['days_listed'].isnull().sum()"
   ]
  },
  {
   "cell_type": "markdown",
   "metadata": {},
   "source": [
    "#### Removing outliers\n",
    "In the previous sections we have already got rid of outliers in the `price` variable. From our histogram analysis above both `cylinders` and `condition` variables' distribution look normal, with no issues. We therefore need to remove outliers only for `odometer` and `age_in_years` columns. \n",
    "\n",
    "Based on this [article](https://machinelearningmastery.com/how-to-use-statistics-to-identify-outliers-in-data/), if we know that the distribution of values in the sample is Gaussian or Gaussian-like, we can use the standard deviation of the sample as a cut-off for identifying outliers. A good statistic for summarizing a non-Gaussian distribution sample of data is the Interquartile Range.\n",
    "\n",
    "First, let's test whether our two variables have Gaussian distribution. There are [several ways](https://towardsdatascience.com/6-ways-to-test-for-a-normal-distribution-which-one-to-use-9dcf47d8fa93) to do that, we are going to use box plots and qqplots for that."
   ]
  },
  {
   "cell_type": "markdown",
   "metadata": {},
   "source": [
    "##### Identifying type of a distribution"
   ]
  },
  {
   "cell_type": "code",
   "execution_count": 193,
   "metadata": {},
   "outputs": [
    {
     "data": {
      "image/png": "[encoded data removed]",
      "text/plain": [
       "<Figure size 432x288 with 1 Axes>"
      ]
     },
     "metadata": {
      "needs_background": "light"
     },
     "output_type": "display_data"
    }
   ],
   "source": [
    "df.boxplot('age_in_years');"
   ]
  },
  {
   "cell_type": "code",
   "execution_count": 194,
   "metadata": {},
   "outputs": [
    {
     "data": {
      "image/png": "[encoded data removed]",
      "text/plain": [
       "<Figure size 432x288 with 1 Axes>"
      ]
     },
     "metadata": {
      "needs_background": "light"
     },
     "output_type": "display_data"
    }
   ],
   "source": [
    "import statsmodels.api as sm\n",
    "from scipy.stats import norm\n",
    "import pylab\n",
    "\n",
    "sm.qqplot(df['age_in_years'], line='45')\n",
    "pylab.show()"
   ]
  },
  {
   "cell_type": "code",
   "execution_count": 195,
   "metadata": {},
   "outputs": [
    {
     "data": {
      "image/png": "[encoded data removed]",
      "text/plain": [
       "<Figure size 432x288 with 1 Axes>"
      ]
     },
     "metadata": {
      "needs_background": "light"
     },
     "output_type": "display_data"
    }
   ],
   "source": [
    "df.boxplot('odometer');"
   ]
  },
  {
   "cell_type": "code",
   "execution_count": 196,
   "metadata": {},
   "outputs": [
    {
     "data": {
      "image/png": "[encoded data removed]",
      "text/plain": [
       "<Figure size 432x288 with 1 Axes>"
      ]
     },
     "metadata": {
      "needs_background": "light"
     },
     "output_type": "display_data"
    }
   ],
   "source": [
    "sm.qqplot(df['odometer'], line='45')\n",
    "pylab.show()"
   ]
  },
  {
   "cell_type": "code",
   "execution_count": 197,
   "metadata": {},
   "outputs": [
    {
     "data": {
      "image/png": "[encoded data removed]",
      "text/plain": [
       "<Figure size 432x288 with 1 Axes>"
      ]
     },
     "metadata": {
      "needs_background": "light"
     },
     "output_type": "display_data"
    }
   ],
   "source": [
    "df['days_listed'].plot(kind='box');"
   ]
  },
  {
   "cell_type": "code",
   "execution_count": 198,
   "metadata": {},
   "outputs": [
    {
     "data": {
      "image/png": "[encoded data removed]",
      "text/plain": [
       "<Figure size 432x288 with 1 Axes>"
      ]
     },
     "metadata": {
      "needs_background": "light"
     },
     "output_type": "display_data"
    }
   ],
   "source": [
    "sm.qqplot(df['days_listed'], line='45')\n",
    "pylab.show()"
   ]
  },
  {
   "cell_type": "markdown",
   "metadata": {},
   "source": [
    "According to above box and qq plots we can see that all 3 variables do not have Gaussian distribution, they deviate quite strongly from the theoretical bell curve distribution (red line). Based on that, we are going to use IQR to identify limit values in order to remove outliers."
   ]
  },
  {
   "cell_type": "markdown",
   "metadata": {},
   "source": [
    "##### Using IQR to remove outliers"
   ]
  },
  {
   "cell_type": "code",
   "execution_count": 199,
   "metadata": {},
   "outputs": [],
   "source": [
    "filter = np.zeros(len(df), dtype=bool) + True\n",
    "for feature in ['age_in_years','odometer','days_listed']:\n",
    "    q25 = df[feature].quantile(0.25)\n",
    "    q75 = df[feature].quantile(0.75)\n",
    "    iqr = q75 - q25\n",
    "    # calculate the outlier cutoff and upper limit\n",
    "    cut_off = iqr * 1.5\n",
    "    upper = q75 + cut_off\n",
    "    filter[np.where(df[feature]>upper)] = False"
   ]
  },
  {
   "cell_type": "code",
   "execution_count": 200,
   "metadata": {},
   "outputs": [],
   "source": [
    "df_filtered = df[filter]\n",
    "df_filtered.dropna(how='all', inplace=True)\n",
    "df_filtered.reset_index(drop=True, inplace=True)"
   ]
  },
  {
   "cell_type": "code",
   "execution_count": 201,
   "metadata": {},
   "outputs": [
    {
     "data": {
      "text/plain": [
       "(47494, 19)"
      ]
     },
     "execution_count": 201,
     "metadata": {},
     "output_type": "execute_result"
    }
   ],
   "source": [
    "df_filtered.shape"
   ]
  },
  {
   "cell_type": "markdown",
   "metadata": {},
   "source": [
    "##### Filtered data histograms"
   ]
  },
  {
   "cell_type": "code",
   "execution_count": 202,
   "metadata": {},
   "outputs": [
    {
     "data": {
      "image/png": "[encoded data removed]",
      "text/plain": [
       "<Figure size 1080x576 with 4 Axes>"
      ]
     },
     "metadata": {
      "needs_background": "light"
     },
     "output_type": "display_data"
    }
   ],
   "source": [
    "df_filtered[['age_in_years', 'odometer', 'days_listed']].hist(bins=100, figsize=(15,8));"
   ]
  },
  {
   "cell_type": "markdown",
   "metadata": {},
   "source": [
    "We no longer see long tails of large values for these two features, so their distributions look more normal and not as skewed as before."
   ]
  },
  {
   "cell_type": "markdown",
   "metadata": {},
   "source": [
    "#### Type of vehicles\n",
    "Let's analyze the number of ads and the average price for each type of vehicle."
   ]
  },
  {
   "cell_type": "code",
   "execution_count": 203,
   "metadata": {},
   "outputs": [],
   "source": [
    "type_grouped = df_filtered.pivot_table(index='type', values='price', aggfunc=['count','mean'])"
   ]
  },
  {
   "cell_type": "markdown",
   "metadata": {},
   "source": [
    "First, let's see what type of a vehicle has the largest price, on average."
   ]
  },
  {
   "cell_type": "code",
   "execution_count": 204,
   "metadata": {},
   "outputs": [
    {
     "data": {
      "image/png": "[encoded data removed]",
      "text/plain": [
       "<Figure size 432x288 with 1 Axes>"
      ]
     },
     "metadata": {
      "needs_background": "light"
     },
     "output_type": "display_data"
    }
   ],
   "source": [
    "type_grouped['mean'].sort_values(by='price', ascending=False).plot(kind='bar', legend=False)\n",
    "plt.title('Average price per vehicle type')\n",
    "plt.ylabel('average price');"
   ]
  },
  {
   "cell_type": "markdown",
   "metadata": {},
   "source": [
    "According to the above bar plot, trucks and pickups are the most expensive on average and it seems logical as they are the biggest also.\n",
    "\n",
    "Next, we'll plot a graph showing the dependence of the number of ads on the vehicle type and identify the two types with the greatest number of ads."
   ]
  },
  {
   "cell_type": "code",
   "execution_count": 205,
   "metadata": {},
   "outputs": [
    {
     "data": {
      "image/png": "[encoded data removed]",
      "text/plain": [
       "<Figure size 432x288 with 1 Axes>"
      ]
     },
     "metadata": {
      "needs_background": "light"
     },
     "output_type": "display_data"
    }
   ],
   "source": [
    "type_grouped['count'].sort_values(by='price', ascending=False).plot(kind='bar', legend=False)\n",
    "plt.title('Number of ads per vehicle type')\n",
    "plt.ylabel('number of ads');"
   ]
  },
  {
   "cell_type": "markdown",
   "metadata": {},
   "source": [
    "From the bar plot above we see that 'SUV' and 'Sedan' are the two most popular types of vehicles in this data set. Let's subset our data frame based on these 2 types."
   ]
  },
  {
   "cell_type": "code",
   "execution_count": 206,
   "metadata": {},
   "outputs": [],
   "source": [
    "popular_types = df_filtered[df_filtered['type'].isin(['SUV', 'sedan'])]"
   ]
  },
  {
   "cell_type": "markdown",
   "metadata": {},
   "source": [
    "#### Factors influencing price\n",
    "##### Condition vs price\n",
    "First, let's check whether each category has at least 50 ads."
   ]
  },
  {
   "cell_type": "code",
   "execution_count": 207,
   "metadata": {},
   "outputs": [
    {
     "data": {
      "text/plain": [
       "3    12046\n",
       "2     8129\n",
       "4     2304\n",
       "1      522\n",
       "5       57\n",
       "0       55\n",
       "Name: condition, dtype: int64"
      ]
     },
     "execution_count": 207,
     "metadata": {},
     "output_type": "execute_result"
    }
   ],
   "source": [
    "popular_types.condition.value_counts()"
   ]
  },
  {
   "cell_type": "code",
   "execution_count": 208,
   "metadata": {},
   "outputs": [
    {
     "data": {
      "image/png": "[encoded data removed]",
      "text/plain": [
       "<Figure size 432x288 with 1 Axes>"
      ]
     },
     "metadata": {
      "needs_background": "light"
     },
     "output_type": "display_data"
    }
   ],
   "source": [
    "popular_types.boxplot(by='condition', column='price')\n",
    "plt.suptitle('')\n",
    "plt.title('Link between price and condition of a vehicle');"
   ]
  },
  {
   "cell_type": "markdown",
   "metadata": {},
   "source": [
    "We see quite a clear connection: on average, the better the condition of a vehicle, the higher its price."
   ]
  },
  {
   "cell_type": "markdown",
   "metadata": {},
   "source": [
    "##### Transmission type vs price\n",
    "First, let's check whether each category has at least 50 ads."
   ]
  },
  {
   "cell_type": "code",
   "execution_count": 209,
   "metadata": {},
   "outputs": [
    {
     "data": {
      "text/plain": [
       "automatic    21838\n",
       "manual         992\n",
       "other          283\n",
       "Name: transmission, dtype: int64"
      ]
     },
     "execution_count": 209,
     "metadata": {},
     "output_type": "execute_result"
    }
   ],
   "source": [
    "popular_types.transmission.value_counts()"
   ]
  },
  {
   "cell_type": "code",
   "execution_count": 210,
   "metadata": {},
   "outputs": [
    {
     "data": {
      "image/png": "[encoded data removed]",
      "text/plain": [
       "<Figure size 432x288 with 1 Axes>"
      ]
     },
     "metadata": {
      "needs_background": "light"
     },
     "output_type": "display_data"
    }
   ],
   "source": [
    "popular_types.boxplot(by='transmission', column='price')\n",
    "plt.suptitle('')\n",
    "plt.title('Link between price and transmission type of a vehicle');"
   ]
  },
  {
   "cell_type": "markdown",
   "metadata": {},
   "source": [
    "Vehicles with the 'other' type of transmission tend to be slightly more expensive. It is probably explained by the fact these other types give more flexibility and comfort to the driver and more efficient in terms of fuel usage. "
   ]
  },
  {
   "cell_type": "markdown",
   "metadata": {},
   "source": [
    "##### Paint color vs price\n",
    "First, let's check whether each category has at least 50 ads."
   ]
  },
  {
   "cell_type": "code",
   "execution_count": 211,
   "metadata": {},
   "outputs": [
    {
     "data": {
      "text/plain": [
       "missing    4167\n",
       "black      3748\n",
       "silver     3435\n",
       "white      3246\n",
       "grey       2677\n",
       "blue       2135\n",
       "red        1743\n",
       "green       592\n",
       "brown       581\n",
       "custom      577\n",
       "orange       88\n",
       "yellow       65\n",
       "purple       59\n",
       "Name: paint_color, dtype: int64"
      ]
     },
     "execution_count": 211,
     "metadata": {},
     "output_type": "execute_result"
    }
   ],
   "source": [
    "popular_types.paint_color.value_counts()"
   ]
  },
  {
   "cell_type": "code",
   "execution_count": 212,
   "metadata": {},
   "outputs": [
    {
     "data": {
      "image/png": "[encoded data removed]",
      "text/plain": [
       "<Figure size 720x360 with 1 Axes>"
      ]
     },
     "metadata": {
      "needs_background": "light"
     },
     "output_type": "display_data"
    }
   ],
   "source": [
    "popular_types.boxplot(by='paint_color', column='price', figsize=(10,5))\n",
    "plt.suptitle('')\n",
    "plt.title('Link between price and paint color of a vehicle');"
   ]
  },
  {
   "cell_type": "markdown",
   "metadata": {},
   "source": [
    "There is no clear connection between price and paint color. It makes sense because paint color depends mostly on customers' preferences and not the price of a car. Interestingly, orange cars seem to be the most expensive but their number is quite low in this data set (only 88 cars). Most cars are black and silver."
   ]
  },
  {
   "cell_type": "markdown",
   "metadata": {},
   "source": [
    "##### Age vs price"
   ]
  },
  {
   "cell_type": "code",
   "execution_count": 213,
   "metadata": {},
   "outputs": [
    {
     "data": {
      "image/png": "[encoded data removed]",
      "text/plain": [
       "<Figure size 432x288 with 1 Axes>"
      ]
     },
     "metadata": {
      "needs_background": "light"
     },
     "output_type": "display_data"
    }
   ],
   "source": [
    "popular_types.plot.scatter(x='age_in_years', y='price', alpha=.15)\n",
    "plt.title('Link between price and age of a vehicle: scatter plot');"
   ]
  },
  {
   "cell_type": "code",
   "execution_count": 214,
   "metadata": {},
   "outputs": [
    {
     "data": {
      "image/png": "[encoded data removed]",
      "text/plain": [
       "<Figure size 720x360 with 2 Axes>"
      ]
     },
     "metadata": {
      "needs_background": "light"
     },
     "output_type": "display_data"
    }
   ],
   "source": [
    "popular_types.plot(x='age_in_years', y='price', kind='hexbin', gridsize=30, figsize=(10, 5), sharex=False, grid=True)\n",
    "plt.title('Link between price and age of a vehicle: hexbin plot');"
   ]
  },
  {
   "cell_type": "markdown",
   "metadata": {},
   "source": [
    "We see that, on average, the older a vehicle is, the lower its price, which is quite reasonable.\n",
    "\n",
    "Let's see if this conclusion holds for the `model_year` feature."
   ]
  },
  {
   "cell_type": "code",
   "execution_count": 215,
   "metadata": {},
   "outputs": [
    {
     "data": {
      "image/png": "[encoded data removed]",
      "text/plain": [
       "<Figure size 432x288 with 1 Axes>"
      ]
     },
     "metadata": {
      "needs_background": "light"
     },
     "output_type": "display_data"
    }
   ],
   "source": [
    "popular_types.plot.scatter(x='model_year', y='price', alpha=.25)\n",
    "plt.title('Link between price and model year of a vehicle');"
   ]
  },
  {
   "cell_type": "markdown",
   "metadata": {},
   "source": [
    "This tendency is also confirmed by the `model_year` variable. The data reflects real life situation: the more recent a car's model, the higher its price."
   ]
  },
  {
   "cell_type": "markdown",
   "metadata": {},
   "source": [
    "##### Mileage vs price"
   ]
  },
  {
   "cell_type": "code",
   "execution_count": 216,
   "metadata": {},
   "outputs": [
    {
     "data": {
      "image/png": "[encoded data removed]",
      "text/plain": [
       "<Figure size 432x288 with 1 Axes>"
      ]
     },
     "metadata": {
      "needs_background": "light"
     },
     "output_type": "display_data"
    }
   ],
   "source": [
    "popular_types.plot.scatter(x='odometer', y='price', alpha=.25)\n",
    "plt.title('Link between price and mileage of a vehicle');"
   ]
  },
  {
   "cell_type": "markdown",
   "metadata": {},
   "source": [
    "Based on the above scatter plot, as the `odometer` increases, `price` of a vehicle tends to decrease. It makes sense as the higher the mileage, the worse, on average, the condition of a car, hence lower the price."
   ]
  },
  {
   "cell_type": "markdown",
   "metadata": {},
   "source": [
    "# Conclusion"
   ]
  },
  {
   "cell_type": "markdown",
   "metadata": {},
   "source": [
    "In this report we have analyzed different features of various types of vehicles in order to determine whether age, mileage, condition, transmission type, and color influence the price of a vehicle.\n",
    "\n",
    "First of all, we have familiarized ourselves with the data by performing the descriptive statistics. Then, we examined our target variable `price` and found a few artifacts in the data set that we have corrected: rows with abnormally high prices per type and brand group, observations with `price` = 1 and `price` = 123456.\n",
    "\n",
    "Next step was to deal with missing values:\n",
    "- Missing values in the `is_4wd` column were filled with 0 for those vehicles that do not have 4 weels; \n",
    "- Missing `odometer` values were filled with the median value of a respective group based on the model and type of a vehicle. We assumed that cars with the same model (e.g. cadillac escalade) but different types (e.g. SUV and pickup) have different odometer values;\n",
    "- Missing `model_year` values were filled based on the median number of years in exploitation of a respective group based on the model and type of a vehicle;\n",
    "- Missing `cylinders` values were filled with the median value of a respective group based on the model and type of a vehicle. We assumed that cars with the same model (e.g. cadillac escalade) but different types (e.g. SUV and pickup) have different number of cylinders because their engines were designed for different purposes;\n",
    "- Missing `paint_color` values were filled with a string 'missing' as it mostly depends on customer preferences and we don't have any additional information to fill in this column.\n",
    "\n",
    "Then we performed a few auxiliary calculations:\n",
    "- We extracted day of the week, month, and year when an ad was placed;\n",
    "- We calculated a vehicle's age (in years) when the ad was placed;\n",
    "- We calculated a vehicle's average mileage per year;\n",
    "- In the condition column, we replaced string values with a numeric scale to make further analysis easier.\n",
    "\n",
    "Lastly, we have performed exploratory data analysis:\n",
    "1. We have plotted histograms for the main features in order to find outliers. `price`, `condition` and `cylinders` columns had no visible outliers while `age_in_years`,`odometer` and `days_listed` all had long tails of large values that we had to be filtered out as they skewed our data. First, we tested whether these variables had normal (Gaussian) distribution. All of them deviated strongly from the theoretical bell curve distribution. Based on that, we have decided to use interquartile range to identify limit values for removal of outliers. After filtering, histograms looked more normal and less skewed as before;\n",
    "2. Lastly, we have analyzed what factors influenced the price of a vehicle the most. We have conducted this analysis for the 2 most popular types of vehicles in terms of the number of ads (SUV and sedan). Based on our analysis, some of the predicted tendencies were correct while others were not:\n",
    "    - Correct, on average, the older a vehicle, the lower the price;\n",
    "    - Correct, on average, the higher the mileage, the lower the price;\n",
    "    - Correct, on average, the better the condition of a vehicle, the higher the price;\n",
    "    - Incorrect, vehicles with the 'other' type of transmission tend to be more expensive. It is probably explained by the fact these other types give more flexibility and comfort to the driver and more efficient in terms of fuel usage.\n",
    "    - Incorrect, there is no clear connection between price and paint color, it depends mostly on customers' preferences. Interestingly, orange cars seem to be the most expensive, although their number is quite low in this data set (only 88 cars). Most cars are black and silver but they are not the most expensive."
   ]
  }
 ],
 "metadata": {
  "kernelspec": {
   "display_name": "Python 3",
   "language": "python",
   "name": "python3"
  },
  "language_info": {
   "codemirror_mode": {
    "name": "ipython",
    "version": 3
   },
   "file_extension": ".py",
   "mimetype": "text/x-python",
   "name": "python",
   "nbconvert_exporter": "python",
   "pygments_lexer": "ipython3",
   "version": "3.7.7"
  },
  "toc": {
   "base_numbering": 1,
   "nav_menu": {},
   "number_sections": true,
   "sideBar": true,
   "skip_h1_title": true,
   "title_cell": "Table of Contents",
   "title_sidebar": "Contents",
   "toc_cell": true,
   "toc_position": {},
   "toc_section_display": true,
   "toc_window_display": false
  }
 },
 "nbformat": 4,
 "nbformat_minor": 4
}
